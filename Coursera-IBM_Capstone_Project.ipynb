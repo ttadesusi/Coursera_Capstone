{
 "cells": [
  {
   "cell_type": "markdown",
   "metadata": {
    "slideshow": {
     "slide_type": "slide"
    }
   },
   "source": [
    "<font size = 6>\n",
    "    <center><b>Top 5 Bukkas for Investors in Lagos, Nigeria</b></center>"
   ]
  },
  {
   "cell_type": "markdown",
   "metadata": {
    "slideshow": {
     "slide_type": "fragment"
    }
   },
   "source": [
    "<font size = 4> **Table of Contents**\n",
    "\n",
    "1 *[Introduction](#item1)*\n",
    "  * *[Business Problem](#item1a)*\n",
    "  * *[Objective](#item1b)*\n",
    "  * *[Description of Dataset](#item1c)*\n",
    "    \n",
    "\n",
    "2 *[Data Acquisition and Wrangling](#item2)*\n",
    "  * *[Data Source and Type](#item2a)*\n",
    "  * *[Data Cleaning](#item2b)*\n",
    "  * *[Feature Selection](#item2c)*\n",
    "  * *[Data Visualization](#item2d)*\n",
    "    \n",
    "    \n",
    "3 *[Methodology](#item3)*\n",
    "    \n",
    "    \n",
    "4 *[Results and Discussion](#item4)*\n",
    "    \n",
    "   \n",
    "5 *[Conclusion](#item5)*\n",
    "    \n",
    "    \n",
    "6 *[Appendix](#item6)*\n",
    "  * *[References](#item6a)*\n",
    "  * *[Author](#item6b)*\n",
    "    "
   ]
  },
  {
   "cell_type": "markdown",
   "metadata": {
    "slideshow": {
     "slide_type": "slide"
    }
   },
   "source": [
    "# Introduction <a class=\"anchor\" id=\"item1\"></a> "
   ]
  },
  {
   "cell_type": "markdown",
   "metadata": {
    "slideshow": {
     "slide_type": "fragment"
    }
   },
   "source": [
    "## Business Problem <a class=\"anchor\" id=\"item1a\"></a> \n",
    "\n",
    "Lagos is the most populous city in Nigeria and the African continent. According to Wikipedia, Lagos is a major financial centre for all of Africa and a megacity with the fourth-highest GDP in Africa and houses one of the largest and busiest seaports on the continent. It is one of the fastest-growing cities in the world."
   ]
  },
  {
   "cell_type": "markdown",
   "metadata": {
    "slideshow": {
     "slide_type": "fragment"
    }
   },
   "source": [
    "This megacity is a good place to either start a business or invest in businesses. Different business categories are booming in Lagos, Nigeria but the top 10 categories are namely:\n",
    "\n",
    "* Restaurant and Catering Services\n",
    "* Food Processing\n",
    "* Mini Importation\n",
    "* Transportation\n",
    "* Daycare services\n",
    "* Clothing\n",
    "* Agricultural Products\n",
    "* ICT\n",
    "* Real Estate\n",
    "* Oil & Gas"
   ]
  },
  {
   "cell_type": "markdown",
   "metadata": {
    "slideshow": {
     "slide_type": "fragment"
    }
   },
   "source": [
    "Some of the business categories listed above (E.g Oil & Gas, Real Estate) require a huge sum of capital and operating cost but have huge return-on-investment (ROI). While other categories (E.g Restaurant, Clothing, Daycare) require moderate/low sum of capital and operating cost with good ROI.\n",
    "\n",
    "In this project, my focus is on the Restaurant and Catering Services category. There are numerous restaurants in every street of Lagos and I have classified them into 3 categories:"
   ]
  },
  {
   "cell_type": "markdown",
   "metadata": {
    "slideshow": {
     "slide_type": "fragment"
    }
   },
   "source": [
    "* Eatery: This category belongs to the high-class and foreign restaurants and requires huge investment. They are popular and often have branches in every local government area (LGA) in Lagos State and other States. People patronise them not only because of the delicious taste of meals they sell but also for the well-conditioned and relaxing environment. Examples are KFC, Tastee Fried Chicken, Hard Rock Cafe, Tantalizer, Chicken Republic, Domino's Pizza, Mama Cass and more. "
   ]
  },
  {
   "cell_type": "markdown",
   "metadata": {
    "slideshow": {
     "slide_type": "fragment"
    }
   },
   "source": [
    "* Bukka: This category belongs to the middle-class restaurants and requires moderate investment. They are well-known as a result of the delicious and pleasurable taste of meals they sell. Recently, a man of God called Pastor E.A Adeboye endorsed them during a Sunday Service because of the quality and tasty meals they sell. The environment, canteens, where they sell the food may not be classy and conducive for eating, therefore, most people prefer to buy their foods in food-packs (takeout) "
   ]
  },
  {
   "cell_type": "markdown",
   "metadata": {
    "slideshow": {
     "slide_type": "fragment"
    }
   },
   "source": [
    "* Mama-put: This category belongs to the low-class restaurants and requires low investment. They are often patronized by low-income earners because of the low price with a satisfactory quantity of food they sell. The quality and taste of their meals may or may not be as good as the other categories. The environment they sell the food is not always conducive for eating because they are often found on the roadside, selling food from a handcart."
   ]
  },
  {
   "cell_type": "markdown",
   "metadata": {
    "slideshow": {
     "slide_type": "fragment"
    }
   },
   "source": [
    "Investing in Bukkas with high potential of becoming high-class restaurants will be a good investment because they already have the market. The investment will be on improving the environment to a well-furnished and relaxing outlet, standard of operation and opening more branches.\n",
    "\n",
    "Mama Cass is an example of this type of investment. It started as a Bukka with a single branch and became an eatery with 13 outlets, competing with other high-class restaurants."
   ]
  },
  {
   "cell_type": "markdown",
   "metadata": {
    "slideshow": {
     "slide_type": "fragment"
    }
   },
   "source": [
    "## Objective <a class=\"anchor\" id=\"item1b\"></a>\n",
    "\n",
    "The objective of this project is to find Bukkas with the potentials of becoming high-class restaurants, within 3km radius of the administrative capital of each local government area of Lagos State."
   ]
  },
  {
   "cell_type": "markdown",
   "metadata": {
    "slideshow": {
     "slide_type": "fragment"
    }
   },
   "source": [
    "## Description of Datasets <a class=\"anchor\" id=\"item1c\"></a>\n",
    "\n",
    "The datasets I used for this project were acquired from Wikipedia and Macrotrends. Wikipedia dataset consists of the names and administrative capitals of all the local government areas in Lagos State. It also consists of the area dimension (in squared-kilometre) of each LGA and its population. Although the population data is not up to date because the last population census was carried out in 2006. \n",
    "\n",
    "Therefore, I estimated the year 2021 projected population to guide me in making a more accurate decision in siting appropriate venues for the branches. The 2021 projected population was estimated by using the Lagos State growth rate from 2007 to 2021.\n",
    "\n",
    "The coordinates (latitude and longitude) of each administrative capital of all LGA of Lagos state were determined and appended to the data frame by using arcgis geocode API. I used the data frame with filter-query to send a get request to Foursquare API to retrieve the nearby restaurants within 3km radius of the administrative capital of each LGA."
   ]
  },
  {
   "cell_type": "markdown",
   "metadata": {},
   "source": [
    "<a class=\"anchor\" id=\"item2\"></a> "
   ]
  },
  {
   "cell_type": "markdown",
   "metadata": {
    "slideshow": {
     "slide_type": "slide"
    }
   },
   "source": [
    "# Data Acquisition and Wrangling\n"
   ]
  },
  {
   "cell_type": "markdown",
   "metadata": {
    "slideshow": {
     "slide_type": "fragment"
    }
   },
   "source": [
    "## Data Source and Type <a class=\"anchor\" id=\"item2a\"></a>\n",
    "\n",
    "* Data sources: \n",
    "  1. [Wikipedia Dataset](https://en.wikipedia.org/wiki/Lagos_State)\n",
    "  2. [Macrotrends Dataset](https://www.macrotrends.net/cities/22007/lagos/population#:~:text=The%20current%20metro%20area%20population,a%203.28%25%20increase%20from%202018)\n",
    "  \n",
    "* Data type: html"
   ]
  },
  {
   "cell_type": "code",
   "execution_count": 1,
   "metadata": {
    "slideshow": {
     "slide_type": "skip"
    }
   },
   "outputs": [],
   "source": [
    "import numpy as np # library to handle data in a vectorized manner\n",
    "\n",
    "import pandas as pd # library for data analsysis\n",
    "pd.set_option('display.max_columns', None)\n",
    "pd.set_option('display.max_rows', None)\n",
    "pd.set_option('display.max_colwidth', None)"
   ]
  },
  {
   "cell_type": "code",
   "execution_count": 2,
   "metadata": {
    "slideshow": {
     "slide_type": "skip"
    }
   },
   "outputs": [],
   "source": [
    "url1 = 'https://en.wikipedia.org/wiki/Lagos_State'\n",
    "url2 = 'https://www.macrotrends.net/cities/22007/lagos/population#:~:text=The%20current%20metro%20area%20population,a%203.28%25%20increase%20from%202018'\n",
    "\n",
    "lagos_data1 = pd.read_html(url1)              # Reading Lagos State LGA Data from Wikipedia \n",
    "lagos_data2 = pd.read_html(url2, header = 1)  # Reading Lagos State growth rate from Macrotrends"
   ]
  },
  {
   "cell_type": "code",
   "execution_count": 3,
   "metadata": {
    "slideshow": {
     "slide_type": "fragment"
    }
   },
   "outputs": [
    {
     "data": {
      "text/html": [
       "<div>\n",
       "<style scoped>\n",
       "    .dataframe tbody tr th:only-of-type {\n",
       "        vertical-align: middle;\n",
       "    }\n",
       "\n",
       "    .dataframe tbody tr th {\n",
       "        vertical-align: top;\n",
       "    }\n",
       "\n",
       "    .dataframe thead th {\n",
       "        text-align: right;\n",
       "    }\n",
       "</style>\n",
       "<table border=\"1\" class=\"dataframe\">\n",
       "  <thead>\n",
       "    <tr style=\"text-align: right;\">\n",
       "      <th></th>\n",
       "      <th>LGA name</th>\n",
       "      <th>Area (km2)</th>\n",
       "      <th>Census 2006 population</th>\n",
       "      <th>Administrative capital</th>\n",
       "      <th>Postalcode</th>\n",
       "    </tr>\n",
       "  </thead>\n",
       "  <tbody>\n",
       "    <tr>\n",
       "      <th>0</th>\n",
       "      <td>Agege</td>\n",
       "      <td>11</td>\n",
       "      <td>459939</td>\n",
       "      <td>Agege</td>\n",
       "      <td>100.0</td>\n",
       "    </tr>\n",
       "    <tr>\n",
       "      <th>1</th>\n",
       "      <td>Alimosho</td>\n",
       "      <td>185</td>\n",
       "      <td>1277714</td>\n",
       "      <td>Ikotun</td>\n",
       "      <td>100.0</td>\n",
       "    </tr>\n",
       "    <tr>\n",
       "      <th>2</th>\n",
       "      <td>Ifako-Ijaye</td>\n",
       "      <td>27</td>\n",
       "      <td>427878</td>\n",
       "      <td>Ifako</td>\n",
       "      <td>100.0</td>\n",
       "    </tr>\n",
       "    <tr>\n",
       "      <th>3</th>\n",
       "      <td>Ikeja</td>\n",
       "      <td>46</td>\n",
       "      <td>313196</td>\n",
       "      <td>Ikeja</td>\n",
       "      <td>100.0</td>\n",
       "    </tr>\n",
       "    <tr>\n",
       "      <th>4</th>\n",
       "      <td>Kosofe</td>\n",
       "      <td>81</td>\n",
       "      <td>665393</td>\n",
       "      <td>Kosofe</td>\n",
       "      <td>100.0</td>\n",
       "    </tr>\n",
       "  </tbody>\n",
       "</table>\n",
       "</div>"
      ],
      "text/plain": [
       "      LGA name  Area (km2)  Census 2006 population Administrative capital  \\\n",
       "0        Agege          11                  459939                  Agege   \n",
       "1     Alimosho         185                 1277714                 Ikotun   \n",
       "2  Ifako-Ijaye          27                  427878                  Ifako   \n",
       "3        Ikeja          46                  313196                  Ikeja   \n",
       "4       Kosofe          81                  665393                 Kosofe   \n",
       "\n",
       "   Postalcode  \n",
       "0       100.0  \n",
       "1       100.0  \n",
       "2       100.0  \n",
       "3       100.0  \n",
       "4       100.0  "
      ]
     },
     "execution_count": 3,
     "metadata": {},
     "output_type": "execute_result"
    }
   ],
   "source": [
    "# Print out first 5 rows from Wikipedia dataset\n",
    "\n",
    "lagos_data1[2].head()"
   ]
  },
  {
   "cell_type": "code",
   "execution_count": 4,
   "metadata": {
    "slideshow": {
     "slide_type": "slide"
    }
   },
   "outputs": [
    {
     "data": {
      "text/html": [
       "<div>\n",
       "<style scoped>\n",
       "    .dataframe tbody tr th:only-of-type {\n",
       "        vertical-align: middle;\n",
       "    }\n",
       "\n",
       "    .dataframe tbody tr th {\n",
       "        vertical-align: top;\n",
       "    }\n",
       "\n",
       "    .dataframe thead th {\n",
       "        text-align: right;\n",
       "    }\n",
       "</style>\n",
       "<table border=\"1\" class=\"dataframe\">\n",
       "  <thead>\n",
       "    <tr style=\"text-align: right;\">\n",
       "      <th></th>\n",
       "      <th>Year</th>\n",
       "      <th>Population</th>\n",
       "      <th>Growth Rate</th>\n",
       "    </tr>\n",
       "  </thead>\n",
       "  <tbody>\n",
       "    <tr>\n",
       "      <th>0</th>\n",
       "      <td>2021</td>\n",
       "      <td>14862000</td>\n",
       "      <td>3.44%</td>\n",
       "    </tr>\n",
       "    <tr>\n",
       "      <th>1</th>\n",
       "      <td>2020</td>\n",
       "      <td>14368000</td>\n",
       "      <td>3.34%</td>\n",
       "    </tr>\n",
       "    <tr>\n",
       "      <th>2</th>\n",
       "      <td>2019</td>\n",
       "      <td>13904000</td>\n",
       "      <td>3.28%</td>\n",
       "    </tr>\n",
       "    <tr>\n",
       "      <th>3</th>\n",
       "      <td>2018</td>\n",
       "      <td>13463000</td>\n",
       "      <td>3.23%</td>\n",
       "    </tr>\n",
       "    <tr>\n",
       "      <th>4</th>\n",
       "      <td>2017</td>\n",
       "      <td>13042000</td>\n",
       "      <td>3.23%</td>\n",
       "    </tr>\n",
       "  </tbody>\n",
       "</table>\n",
       "</div>"
      ],
      "text/plain": [
       "   Year  Population Growth Rate\n",
       "0  2021    14862000       3.44%\n",
       "1  2020    14368000       3.34%\n",
       "2  2019    13904000       3.28%\n",
       "3  2018    13463000       3.23%\n",
       "4  2017    13042000       3.23%"
      ]
     },
     "execution_count": 4,
     "metadata": {},
     "output_type": "execute_result"
    }
   ],
   "source": [
    "# Print out first 5 rows from Macrotrends dataset\n",
    "\n",
    "lagos_data2[1].head()"
   ]
  },
  {
   "cell_type": "markdown",
   "metadata": {
    "slideshow": {
     "slide_type": "slide"
    }
   },
   "source": [
    "## Data Cleaning <a class=\"anchor\" id=\"item2b\"></a>\n",
    "\n",
    "The data read from the sources contains irrelevant and missing values. Since the data types are HTML, there are irrelevant web texts before the tables needed for this project. \n",
    "\n",
    "Firstly, I extracted the relevant tables within the web texts into a pandas data frame. \n",
    "\n",
    "In the Wikipedia dataset, there are NaN values in some columns because the LGAs are grouped into divisions - consisting of area summation and population summation. I removed the division rows from the data frame to eliminate the NaN values. Also, a square-bracket with number '[33]' attached to the admin capital of Ibeju_Lekki (Akodo) was removed. I dropped the postal code column because it is not unique for each LGA, that is, some LGAs have the same postal code. The columns were rearranged.\n",
    "\n",
    "In Macrotrends dataset, only the growth rates from 2007 - 2021 are needed, therefore, I removed the rows below the year 2007 from the data frame. The population column was removed from the data frame since we already have a population column in the Wikipedia dataset. The data type in the growth rate column is dtype-object and therefore cannot be used to estimate the 2021 projected population. Firstly, I removed the '%' attached to the data and then changed the data type to 'float 64' dtype."
   ]
  },
  {
   "cell_type": "code",
   "execution_count": 5,
   "metadata": {
    "slideshow": {
     "slide_type": "skip"
    }
   },
   "outputs": [],
   "source": [
    "# Clean Wikipedia Dataset\n",
    "\n",
    "df1 = lagos_data1[2].copy()\n",
    "df1.dropna(subset=['Postalcode'], axis = 0, inplace = True)\n",
    "df1.drop(['Postalcode'], axis = 1, inplace = True)\n",
    "df1.sort_values('LGA name', inplace = True)\n",
    "df1.reset_index(drop=True, inplace = True)\n",
    "df1 = df1[['LGA name', 'Administrative capital', 'Area (km2)', 'Census 2006 population']]\n",
    "df1.set_index('LGA name', inplace = True)\n",
    "df1['Administrative capital'].replace({'Akodo[33]': 'Akodo'}, inplace = True)"
   ]
  },
  {
   "cell_type": "code",
   "execution_count": 6,
   "metadata": {
    "slideshow": {
     "slide_type": "fragment"
    }
   },
   "outputs": [
    {
     "name": "stdout",
     "output_type": "stream",
     "text": [
      "Total LGA in Lagos State is 20\n",
      "\n",
      "Lagos State population according to 2006 population census is  9013534\n",
      "----------------------------------------------------------------------\n"
     ]
    },
    {
     "data": {
      "text/html": [
       "<div>\n",
       "<style scoped>\n",
       "    .dataframe tbody tr th:only-of-type {\n",
       "        vertical-align: middle;\n",
       "    }\n",
       "\n",
       "    .dataframe tbody tr th {\n",
       "        vertical-align: top;\n",
       "    }\n",
       "\n",
       "    .dataframe thead th {\n",
       "        text-align: right;\n",
       "    }\n",
       "</style>\n",
       "<table border=\"1\" class=\"dataframe\">\n",
       "  <thead>\n",
       "    <tr style=\"text-align: right;\">\n",
       "      <th></th>\n",
       "      <th>Administrative capital</th>\n",
       "      <th>Area (km2)</th>\n",
       "      <th>Census 2006 population</th>\n",
       "    </tr>\n",
       "    <tr>\n",
       "      <th>LGA name</th>\n",
       "      <th></th>\n",
       "      <th></th>\n",
       "      <th></th>\n",
       "    </tr>\n",
       "  </thead>\n",
       "  <tbody>\n",
       "    <tr>\n",
       "      <th>Agege</th>\n",
       "      <td>Agege</td>\n",
       "      <td>11</td>\n",
       "      <td>459939</td>\n",
       "    </tr>\n",
       "    <tr>\n",
       "      <th>Ajeromi-Ifelodun</th>\n",
       "      <td>Ajeromi/Ifelodun</td>\n",
       "      <td>12</td>\n",
       "      <td>684105</td>\n",
       "    </tr>\n",
       "    <tr>\n",
       "      <th>Alimosho</th>\n",
       "      <td>Ikotun</td>\n",
       "      <td>185</td>\n",
       "      <td>1277714</td>\n",
       "    </tr>\n",
       "    <tr>\n",
       "      <th>Amuwo-Odofin</th>\n",
       "      <td>Festac Town</td>\n",
       "      <td>135</td>\n",
       "      <td>318166</td>\n",
       "    </tr>\n",
       "    <tr>\n",
       "      <th>Apapa</th>\n",
       "      <td>Apapa</td>\n",
       "      <td>27</td>\n",
       "      <td>217362</td>\n",
       "    </tr>\n",
       "  </tbody>\n",
       "</table>\n",
       "</div>"
      ],
      "text/plain": [
       "                 Administrative capital  Area (km2)  Census 2006 population\n",
       "LGA name                                                                   \n",
       "Agege                             Agege          11                  459939\n",
       "Ajeromi-Ifelodun       Ajeromi/Ifelodun          12                  684105\n",
       "Alimosho                         Ikotun         185                 1277714\n",
       "Amuwo-Odofin                Festac Town         135                  318166\n",
       "Apapa                             Apapa          27                  217362"
      ]
     },
     "execution_count": 6,
     "metadata": {},
     "output_type": "execute_result"
    }
   ],
   "source": [
    "# Print cleaned Wikipedia Dataset\n",
    "\n",
    "print('Total LGA in Lagos State is', df1.shape[0])\n",
    "print()\n",
    "print('Lagos State population according to 2006 population census is ',df1['Census 2006 population'].sum()) \n",
    "print('----------------------------------------------------------------------')\n",
    "df1.head()"
   ]
  },
  {
   "cell_type": "code",
   "execution_count": 7,
   "metadata": {
    "slideshow": {
     "slide_type": "skip"
    }
   },
   "outputs": [
    {
     "name": "stdout",
     "output_type": "stream",
     "text": [
      "<class 'pandas.core.frame.DataFrame'>\n",
      "RangeIndex: 72 entries, 0 to 71\n",
      "Data columns (total 3 columns):\n",
      " #   Column       Non-Null Count  Dtype \n",
      "---  ------       --------------  ----- \n",
      " 0   Year         72 non-null     int64 \n",
      " 1   Population   72 non-null     int64 \n",
      " 2   Growth Rate  72 non-null     object\n",
      "dtypes: int64(2), object(1)\n",
      "memory usage: 1.8+ KB\n"
     ]
    }
   ],
   "source": [
    "# Check the data type of Macrotrends Dataset\n",
    "\n",
    "df2 = lagos_data2[1].copy()\n",
    "df2.info()"
   ]
  },
  {
   "cell_type": "code",
   "execution_count": 8,
   "metadata": {
    "slideshow": {
     "slide_type": "skip"
    }
   },
   "outputs": [],
   "source": [
    "# Clean Macrotrends Dataset\n",
    "\n",
    "df2.drop('Population', axis = 1, inplace = True)\n",
    "df2 = df2[df2['Year']>2006]\n",
    "\n",
    "df2['Growth Rate'] = list(map(lambda x: x[:-1], df2['Growth Rate'].values))\n",
    "df2['Growth Rate'] = [float(x) for x in df2['Growth Rate'].values]\n",
    "df2['Average Growth Rate'] = df2['Growth Rate'].mean().round(2)"
   ]
  },
  {
   "cell_type": "code",
   "execution_count": 9,
   "metadata": {
    "slideshow": {
     "slide_type": "fragment"
    }
   },
   "outputs": [
    {
     "name": "stdout",
     "output_type": "stream",
     "text": [
      "The average growth rate of Lagos State from 2007 to 2021 is  3.25\n"
     ]
    },
    {
     "data": {
      "text/html": [
       "<div>\n",
       "<style scoped>\n",
       "    .dataframe tbody tr th:only-of-type {\n",
       "        vertical-align: middle;\n",
       "    }\n",
       "\n",
       "    .dataframe tbody tr th {\n",
       "        vertical-align: top;\n",
       "    }\n",
       "\n",
       "    .dataframe thead th {\n",
       "        text-align: right;\n",
       "    }\n",
       "</style>\n",
       "<table border=\"1\" class=\"dataframe\">\n",
       "  <thead>\n",
       "    <tr style=\"text-align: right;\">\n",
       "      <th></th>\n",
       "      <th>Year</th>\n",
       "      <th>Growth Rate</th>\n",
       "      <th>Average Growth Rate</th>\n",
       "    </tr>\n",
       "  </thead>\n",
       "  <tbody>\n",
       "    <tr>\n",
       "      <th>0</th>\n",
       "      <td>2021</td>\n",
       "      <td>3.44</td>\n",
       "      <td>3.25</td>\n",
       "    </tr>\n",
       "    <tr>\n",
       "      <th>1</th>\n",
       "      <td>2020</td>\n",
       "      <td>3.34</td>\n",
       "      <td>3.25</td>\n",
       "    </tr>\n",
       "    <tr>\n",
       "      <th>2</th>\n",
       "      <td>2019</td>\n",
       "      <td>3.28</td>\n",
       "      <td>3.25</td>\n",
       "    </tr>\n",
       "    <tr>\n",
       "      <th>3</th>\n",
       "      <td>2018</td>\n",
       "      <td>3.23</td>\n",
       "      <td>3.25</td>\n",
       "    </tr>\n",
       "    <tr>\n",
       "      <th>4</th>\n",
       "      <td>2017</td>\n",
       "      <td>3.23</td>\n",
       "      <td>3.25</td>\n",
       "    </tr>\n",
       "  </tbody>\n",
       "</table>\n",
       "</div>"
      ],
      "text/plain": [
       "   Year  Growth Rate  Average Growth Rate\n",
       "0  2021         3.44                 3.25\n",
       "1  2020         3.34                 3.25\n",
       "2  2019         3.28                 3.25\n",
       "3  2018         3.23                 3.25\n",
       "4  2017         3.23                 3.25"
      ]
     },
     "execution_count": 9,
     "metadata": {},
     "output_type": "execute_result"
    }
   ],
   "source": [
    "# Print cleaned Macrotrends Dataset\n",
    "\n",
    "print('The average growth rate of Lagos State from 2007 to 2021 is ', df2['Growth Rate'].mean().round(2))\n",
    "df2.head()"
   ]
  },
  {
   "cell_type": "markdown",
   "metadata": {
    "slideshow": {
     "slide_type": "fragment"
    }
   },
   "source": [
    "## Feature Selection <a class=\"anchor\" id=\"item2c\"></a>\n",
    "\n",
    "In macrotrends dataset, I selected 'year’ and 'growth rate' features while 'population feature' was dropped because it is not subdivided into LGA population. 'Average Growth Rate' feature was added.\n",
    "\n",
    "In Wikipedia dataset, only the 'postal code' and 'census 2006 population' features were dropped while 'Projected 2021 population' feature was added into the data frame. \n",
    "\n",
    "Projected 2021 population = Census 2006 population $*$ $\\exp^{(Average Growth Rate * Period)}$\n",
    "\n",
    "Assumption:\n",
    "The growth rate in all LGAs of Lagos State is the same.\n",
    "\n",
    "Also, the geographical coordinates (Latitudes and Longitudes) of the Administrative capitals for all LGAs were added into the data frame as seen under visualization subheading."
   ]
  },
  {
   "cell_type": "code",
   "execution_count": 10,
   "metadata": {
    "slideshow": {
     "slide_type": "skip"
    }
   },
   "outputs": [],
   "source": [
    "df_lagos = df1.copy()\n",
    "\n",
    "\n",
    "df_lagos['Projected 2021 population'] = (df_lagos['Census 2006 population'] * np.exp(3.25/100 * (2021 - 2006))).astype('int64')\n",
    "df_lagos.drop(['Census 2006 population'], axis = 1, inplace = True)\n",
    "df_lagos.sort_values('Projected 2021 population', ascending = False, inplace = True)"
   ]
  },
  {
   "cell_type": "code",
   "execution_count": 11,
   "metadata": {
    "slideshow": {
     "slide_type": "slide"
    }
   },
   "outputs": [
    {
     "name": "stdout",
     "output_type": "stream",
     "text": [
      "Lagos State projected population for year 2021 is  14676191\n",
      "-----------------------------------------------------------\n"
     ]
    },
    {
     "data": {
      "text/html": [
       "<div>\n",
       "<style scoped>\n",
       "    .dataframe tbody tr th:only-of-type {\n",
       "        vertical-align: middle;\n",
       "    }\n",
       "\n",
       "    .dataframe tbody tr th {\n",
       "        vertical-align: top;\n",
       "    }\n",
       "\n",
       "    .dataframe thead th {\n",
       "        text-align: right;\n",
       "    }\n",
       "</style>\n",
       "<table border=\"1\" class=\"dataframe\">\n",
       "  <thead>\n",
       "    <tr style=\"text-align: right;\">\n",
       "      <th></th>\n",
       "      <th>Administrative capital</th>\n",
       "      <th>Area (km2)</th>\n",
       "      <th>Projected 2021 population</th>\n",
       "    </tr>\n",
       "    <tr>\n",
       "      <th>LGA name</th>\n",
       "      <th></th>\n",
       "      <th></th>\n",
       "      <th></th>\n",
       "    </tr>\n",
       "  </thead>\n",
       "  <tbody>\n",
       "    <tr>\n",
       "      <th>Alimosho</th>\n",
       "      <td>Ikotun</td>\n",
       "      <td>185</td>\n",
       "      <td>2080425</td>\n",
       "    </tr>\n",
       "    <tr>\n",
       "      <th>Ajeromi-Ifelodun</th>\n",
       "      <td>Ajeromi/Ifelodun</td>\n",
       "      <td>12</td>\n",
       "      <td>1113887</td>\n",
       "    </tr>\n",
       "    <tr>\n",
       "      <th>Kosofe</th>\n",
       "      <td>Kosofe</td>\n",
       "      <td>81</td>\n",
       "      <td>1083419</td>\n",
       "    </tr>\n",
       "    <tr>\n",
       "      <th>Mushin</th>\n",
       "      <td>Mushin</td>\n",
       "      <td>17</td>\n",
       "      <td>1030690</td>\n",
       "    </tr>\n",
       "    <tr>\n",
       "      <th>Oshodi-Isolo</th>\n",
       "      <td>Oshodi/Isolo</td>\n",
       "      <td>45</td>\n",
       "      <td>1011966</td>\n",
       "    </tr>\n",
       "  </tbody>\n",
       "</table>\n",
       "</div>"
      ],
      "text/plain": [
       "                 Administrative capital  Area (km2)  Projected 2021 population\n",
       "LGA name                                                                      \n",
       "Alimosho                         Ikotun         185                    2080425\n",
       "Ajeromi-Ifelodun       Ajeromi/Ifelodun          12                    1113887\n",
       "Kosofe                           Kosofe          81                    1083419\n",
       "Mushin                           Mushin          17                    1030690\n",
       "Oshodi-Isolo               Oshodi/Isolo          45                    1011966"
      ]
     },
     "execution_count": 11,
     "metadata": {},
     "output_type": "execute_result"
    }
   ],
   "source": [
    "# Print lagos dataframe with 2021 population\n",
    "\n",
    "print('Lagos State projected population for year 2021 is ', df_lagos['Projected 2021 population'].sum())\n",
    "print('-----------------------------------------------------------')\n",
    "\n",
    "df_lagos.head()"
   ]
  },
  {
   "cell_type": "markdown",
   "metadata": {
    "slideshow": {
     "slide_type": "fragment"
    }
   },
   "source": [
    "## Data Visualization <a class=\"anchor\" id=\"item2d\"></a>\n",
    "\n",
    "Firstly, I imported the required libraries and credentials. Population and Area of each LGA of Lagos State were visualized on horizontal bar charts. I made a visual comparison between population and area for each LGA on a horizontal bar chart. To be able to visually compare population and area on the same chart, I normalised the dataset.\n",
    "\n",
    "I used Nominatim to retrieve the coordinates of all the LGA of Lagos State. The coordinates were appended to the data frame (df_lagos). With these coordinates, I created a map with folium to display (with markers) all the 20 LGAs of Lagos state. Each marker when clicked on shows the name of the LGA, Administrative capital and population of the LGA."
   ]
  },
  {
   "cell_type": "code",
   "execution_count": 12,
   "metadata": {
    "slideshow": {
     "slide_type": "skip"
    }
   },
   "outputs": [
    {
     "name": "stdout",
     "output_type": "stream",
     "text": [
      "Credentials: successful\n",
      "Libraries imported.\n"
     ]
    }
   ],
   "source": [
    "import geocoder\n",
    "from geopy.geocoders import Nominatim # convert an address into latitude and longitude values\n",
    "\n",
    "import json # library to handle JSON files\n",
    "import requests # library to handle requests\n",
    "\n",
    "# Matplotlib and associated plotting modules\n",
    "import matplotlib as mpl\n",
    "import matplotlib.pyplot as plt\n",
    "#%matplotlib inline \n",
    "\n",
    "import folium # map rendering library\n",
    "\n",
    "# Import Foursquare API Credentials\n",
    "import os\n",
    "from dotenv import load_dotenv\n",
    "load_dotenv() \n",
    "\n",
    "CLIENT_ID = os.getenv('Foursquare_ID')               \n",
    "CLIENT_SECRET = os.getenv('Foursquare_Secret')       \n",
    "ACCESS_TOKEN = os.getenv('Foursquare_AccessToken')   \n",
    "VERSION = '20180604'\n",
    "LIMIT = 500\n",
    "\n",
    "print('Credentials: successful')\n",
    "\n",
    "print('Libraries imported.')"
   ]
  },
  {
   "cell_type": "code",
   "execution_count": 13,
   "metadata": {
    "slideshow": {
     "slide_type": "skip"
    }
   },
   "outputs": [],
   "source": [
    "visual_data = df_lagos.copy()\n",
    "visual_data.drop(['Administrative capital'], axis = 1, inplace = True)"
   ]
  },
  {
   "cell_type": "code",
   "execution_count": 14,
   "metadata": {
    "slideshow": {
     "slide_type": "skip"
    }
   },
   "outputs": [],
   "source": [
    "%%capture PopulationChart\n",
    "\n",
    "# Horizontal bar chart for population\n",
    "\n",
    "visual_data.sort_values(by='Projected 2021 population', ascending=True, inplace=True)\n",
    "visual_data['Projected 2021 population'].plot(kind='barh', figsize=(12, 10), width = 0.7, color = ['darkorange'])\n",
    "plt.xlabel('2021 Population', color = 'black')\n",
    "plt.ylabel('LGA', color = 'black')\n",
    "plt.title('2021 Projected population for each LGA of Lagos State')\n",
    "\n",
    "for index, value in enumerate(visual_data['Projected 2021 population']): \n",
    "    label = format(int(value), ',') # format int with commas\n",
    "    plt.annotate(label, xy=(value - 163000, index - 0.2), color='black')"
   ]
  },
  {
   "cell_type": "code",
   "execution_count": 15,
   "metadata": {
    "slideshow": {
     "slide_type": "slide"
    }
   },
   "outputs": [
    {
     "data": {
      "image/png": "[encoded data removed]",
      "text/plain": [
       "<Figure size 864x720 with 1 Axes>"
      ]
     },
     "metadata": {
      "needs_background": "light"
     },
     "output_type": "display_data"
    }
   ],
   "source": [
    "# Visualize population of each LGA of Lagos State\n",
    "\n",
    "PopulationChart.show()"
   ]
  },
  {
   "cell_type": "code",
   "execution_count": 16,
   "metadata": {
    "slideshow": {
     "slide_type": "skip"
    }
   },
   "outputs": [],
   "source": [
    "%%capture AreaChart\n",
    "\n",
    "# Horizontal bar chart for Area\n",
    "\n",
    "visual_data.sort_values(by='Area (km2)', ascending=True, inplace=True)\n",
    "visual_data['Area (km2)'].plot(kind='barh', figsize=(12, 10), width = 0.7)\n",
    "plt.xlabel('Area (km2)', color = 'black')\n",
    "plt.ylabel('LGA', color = 'black')\n",
    "plt.title('Area (km2) of each LGA of Lagos State')\n",
    "\n",
    "for index, value in enumerate(visual_data['Area (km2)']): \n",
    "    label = format(int(value), ',') # format int with commas\n",
    "    plt.annotate(label, xy=(value - 1, index - 0.2), color='black')"
   ]
  },
  {
   "cell_type": "code",
   "execution_count": 17,
   "metadata": {
    "slideshow": {
     "slide_type": "slide"
    }
   },
   "outputs": [
    {
     "data": {
      "image/png": "[encoded data removed]",
      "text/plain": [
       "<Figure size 864x720 with 1 Axes>"
      ]
     },
     "metadata": {
      "needs_background": "light"
     },
     "output_type": "display_data"
    }
   ],
   "source": [
    "# Visualize land area of each LGA of Lagos State\n",
    "\n",
    "AreaChart.show()"
   ]
  },
  {
   "cell_type": "code",
   "execution_count": 18,
   "metadata": {
    "slideshow": {
     "slide_type": "skip"
    }
   },
   "outputs": [],
   "source": [
    "%%capture PopulationVsAreaChart\n",
    "\n",
    "# Horizontal bar chart for population vs area\n",
    "\n",
    "visual_data.sort_values(by='Projected 2021 population', ascending=True, inplace=True)\n",
    "visual_data['Projected 2021 population'] = visual_data['Projected 2021 population']/visual_data['Projected 2021 population'].max()\n",
    "visual_data['Area (km2)'] = visual_data['Area (km2)']/visual_data['Area (km2)'].max()\n",
    "\n",
    "visual_data.plot(kind='barh', figsize=(12, 10), width = 0.7, color = ['steelblue', 'darkorange'])\n",
    "plt.xlabel('Population / Area (km2)', color = 'black')\n",
    "plt.ylabel('LGA', color = 'black')\n",
    "plt.title('Population vs Area(km) for each LGA of Lagos State')"
   ]
  },
  {
   "cell_type": "code",
   "execution_count": 19,
   "metadata": {
    "slideshow": {
     "slide_type": "slide"
    }
   },
   "outputs": [
    {
     "data": {
      "text/plain": [
       "Text(0.5, 1.0, 'Population vs Area(km) for each LGA of Lagos State')"
      ]
     },
     "metadata": {},
     "output_type": "display_data"
    },
    {
     "data": {
      "image/png": "[encoded data removed]",
      "text/plain": [
       "<Figure size 864x720 with 1 Axes>"
      ]
     },
     "metadata": {
      "needs_background": "light"
     },
     "output_type": "display_data"
    }
   ],
   "source": [
    "# Visualizing correlation between Population and Land Area of each LGA of Lagos State\n",
    "\n",
    "PopulationVsAreaChart.show()"
   ]
  },
  {
   "cell_type": "code",
   "execution_count": 20,
   "metadata": {
    "slideshow": {
     "slide_type": "skip"
    }
   },
   "outputs": [
    {
     "name": "stdout",
     "output_type": "stream",
     "text": [
      "The geograpical coordinates of Ikotun are 6.44972000000007, 3.087440000000072.\n",
      "The geograpical coordinates of Ajeromi/Ifelodun are 6.459410000000048, 3.3405500000000643.\n",
      "The geograpical coordinates of Kosofe are 6.599990000000048, 3.4150900000000206.\n",
      "The geograpical coordinates of Mushin are 6.53174000000007, 3.3470100000000684.\n",
      "The geograpical coordinates of Oshodi/Isolo are 6.521350000000041, 3.3186300000000415.\n",
      "The geograpical coordinates of Ojo are 6.462620000000072, 3.166960000000074.\n",
      "The geograpical coordinates of Ikorodu are 6.6235600000000545, 3.5048300000000268.\n",
      "The geograpical coordinates of Surulere are 6.489320000000021, 3.358000000000061.\n",
      "The geograpical coordinates of Agege are 6.6256100000000515, 3.312620000000038.\n",
      "The geograpical coordinates of Ifako are 6.643940000000043, 3.326430000000073.\n",
      "The geograpical coordinates of Shomolu are 6.537850000000049, 3.385340000000042.\n",
      "The geograpical coordinates of Festac Town are 6.465660000000071, 3.3034600000000296.\n",
      "The geograpical coordinates of Lagos Mainland are 6.506430000000023, 3.375530000000026.\n",
      "The geograpical coordinates of Ikeja are 6.607760000000042, 3.348540000000071.\n",
      "The geograpical coordinates of Ikoyi are 6.456060000000036, 3.4422200000000203.\n",
      "The geograpical coordinates of Badagry are 6.432160000000067, 2.89265000000006.\n",
      "The geograpical coordinates of Apapa are 6.437950000000058, 3.3643600000000333.\n",
      "The geograpical coordinates of Lagos Island are 6.454700000000059, 3.3887600000000475.\n",
      "The geograpical coordinates of Epe are 6.583750000000066, 3.975530000000049.\n",
      "The geograpical coordinates of Akodo are 6.435460000000035, 3.930270000000064.\n"
     ]
    }
   ],
   "source": [
    "# Use arcgis geocode to retrieve the coordinates of each admin capital\n",
    "\n",
    "admin_capital = df_lagos['Administrative capital']\n",
    "\n",
    "latitude = []\n",
    "longitude= []\n",
    "\n",
    "for name in admin_capital:\n",
    "    g = geocoder.arcgis('{}, Lagos, Nigeria'.format(name))\n",
    "    latlng = g.latlng\n",
    "    print('The geograpical coordinates of {} are {}, {}.'.format(name, latlng[0], latlng[1]))\n",
    "    latitude.append(latlng[0])\n",
    "    longitude.append(latlng[1])"
   ]
  },
  {
   "cell_type": "code",
   "execution_count": 21,
   "metadata": {
    "slideshow": {
     "slide_type": "skip"
    }
   },
   "outputs": [],
   "source": [
    "# Append the coordinates to the dataframe\n",
    "\n",
    "df_lagos['Latitude'] = latitude\n",
    "df_lagos['Longitude'] = longitude"
   ]
  },
  {
   "cell_type": "code",
   "execution_count": 22,
   "metadata": {
    "slideshow": {
     "slide_type": "slide"
    }
   },
   "outputs": [
    {
     "data": {
      "text/html": [
       "<div>\n",
       "<style scoped>\n",
       "    .dataframe tbody tr th:only-of-type {\n",
       "        vertical-align: middle;\n",
       "    }\n",
       "\n",
       "    .dataframe tbody tr th {\n",
       "        vertical-align: top;\n",
       "    }\n",
       "\n",
       "    .dataframe thead th {\n",
       "        text-align: right;\n",
       "    }\n",
       "</style>\n",
       "<table border=\"1\" class=\"dataframe\">\n",
       "  <thead>\n",
       "    <tr style=\"text-align: right;\">\n",
       "      <th></th>\n",
       "      <th>Administrative capital</th>\n",
       "      <th>Area (km2)</th>\n",
       "      <th>Projected 2021 population</th>\n",
       "      <th>Latitude</th>\n",
       "      <th>Longitude</th>\n",
       "    </tr>\n",
       "    <tr>\n",
       "      <th>LGA name</th>\n",
       "      <th></th>\n",
       "      <th></th>\n",
       "      <th></th>\n",
       "      <th></th>\n",
       "      <th></th>\n",
       "    </tr>\n",
       "  </thead>\n",
       "  <tbody>\n",
       "    <tr>\n",
       "      <th>Alimosho</th>\n",
       "      <td>Ikotun</td>\n",
       "      <td>185</td>\n",
       "      <td>2080425</td>\n",
       "      <td>6.44972</td>\n",
       "      <td>3.08744</td>\n",
       "    </tr>\n",
       "    <tr>\n",
       "      <th>Ajeromi-Ifelodun</th>\n",
       "      <td>Ajeromi/Ifelodun</td>\n",
       "      <td>12</td>\n",
       "      <td>1113887</td>\n",
       "      <td>6.45941</td>\n",
       "      <td>3.34055</td>\n",
       "    </tr>\n",
       "    <tr>\n",
       "      <th>Kosofe</th>\n",
       "      <td>Kosofe</td>\n",
       "      <td>81</td>\n",
       "      <td>1083419</td>\n",
       "      <td>6.59999</td>\n",
       "      <td>3.41509</td>\n",
       "    </tr>\n",
       "    <tr>\n",
       "      <th>Mushin</th>\n",
       "      <td>Mushin</td>\n",
       "      <td>17</td>\n",
       "      <td>1030690</td>\n",
       "      <td>6.53174</td>\n",
       "      <td>3.34701</td>\n",
       "    </tr>\n",
       "    <tr>\n",
       "      <th>Oshodi-Isolo</th>\n",
       "      <td>Oshodi/Isolo</td>\n",
       "      <td>45</td>\n",
       "      <td>1011966</td>\n",
       "      <td>6.52135</td>\n",
       "      <td>3.31863</td>\n",
       "    </tr>\n",
       "    <tr>\n",
       "      <th>Ojo</th>\n",
       "      <td>Ojo</td>\n",
       "      <td>158</td>\n",
       "      <td>973803</td>\n",
       "      <td>6.46262</td>\n",
       "      <td>3.16696</td>\n",
       "    </tr>\n",
       "    <tr>\n",
       "      <th>Ikorodu</th>\n",
       "      <td>Ikorodu</td>\n",
       "      <td>394</td>\n",
       "      <td>872116</td>\n",
       "      <td>6.62356</td>\n",
       "      <td>3.50483</td>\n",
       "    </tr>\n",
       "    <tr>\n",
       "      <th>Surulere</th>\n",
       "      <td>Surulere</td>\n",
       "      <td>23</td>\n",
       "      <td>820592</td>\n",
       "      <td>6.48932</td>\n",
       "      <td>3.35800</td>\n",
       "    </tr>\n",
       "    <tr>\n",
       "      <th>Agege</th>\n",
       "      <td>Agege</td>\n",
       "      <td>11</td>\n",
       "      <td>748891</td>\n",
       "      <td>6.62561</td>\n",
       "      <td>3.31262</td>\n",
       "    </tr>\n",
       "    <tr>\n",
       "      <th>Ifako-Ijaye</th>\n",
       "      <td>Ifako</td>\n",
       "      <td>27</td>\n",
       "      <td>696688</td>\n",
       "      <td>6.64394</td>\n",
       "      <td>3.32643</td>\n",
       "    </tr>\n",
       "    <tr>\n",
       "      <th>Shomolu</th>\n",
       "      <td>Shomolu</td>\n",
       "      <td>12</td>\n",
       "      <td>655648</td>\n",
       "      <td>6.53785</td>\n",
       "      <td>3.38534</td>\n",
       "    </tr>\n",
       "    <tr>\n",
       "      <th>Amuwo-Odofin</th>\n",
       "      <td>Festac Town</td>\n",
       "      <td>135</td>\n",
       "      <td>518050</td>\n",
       "      <td>6.46566</td>\n",
       "      <td>3.30346</td>\n",
       "    </tr>\n",
       "    <tr>\n",
       "      <th>Lagos Mainland</th>\n",
       "      <td>Lagos Mainland</td>\n",
       "      <td>19</td>\n",
       "      <td>517324</td>\n",
       "      <td>6.50643</td>\n",
       "      <td>3.37553</td>\n",
       "    </tr>\n",
       "    <tr>\n",
       "      <th>Ikeja</th>\n",
       "      <td>Ikeja</td>\n",
       "      <td>46</td>\n",
       "      <td>509958</td>\n",
       "      <td>6.60776</td>\n",
       "      <td>3.34854</td>\n",
       "    </tr>\n",
       "    <tr>\n",
       "      <th>Eti-Osa</th>\n",
       "      <td>Ikoyi</td>\n",
       "      <td>192</td>\n",
       "      <td>468583</td>\n",
       "      <td>6.45606</td>\n",
       "      <td>3.44222</td>\n",
       "    </tr>\n",
       "    <tr>\n",
       "      <th>Badagry</th>\n",
       "      <td>Badagry</td>\n",
       "      <td>441</td>\n",
       "      <td>392557</td>\n",
       "      <td>6.43216</td>\n",
       "      <td>2.89265</td>\n",
       "    </tr>\n",
       "    <tr>\n",
       "      <th>Apapa</th>\n",
       "      <td>Apapa</td>\n",
       "      <td>27</td>\n",
       "      <td>353917</td>\n",
       "      <td>6.43795</td>\n",
       "      <td>3.36436</td>\n",
       "    </tr>\n",
       "    <tr>\n",
       "      <th>Lagos Island</th>\n",
       "      <td>Lagos Island</td>\n",
       "      <td>9</td>\n",
       "      <td>341013</td>\n",
       "      <td>6.45470</td>\n",
       "      <td>3.38876</td>\n",
       "    </tr>\n",
       "    <tr>\n",
       "      <th>Epe</th>\n",
       "      <td>Epe</td>\n",
       "      <td>1185</td>\n",
       "      <td>295377</td>\n",
       "      <td>6.58375</td>\n",
       "      <td>3.97553</td>\n",
       "    </tr>\n",
       "    <tr>\n",
       "      <th>Ibeju-Lekki</th>\n",
       "      <td>Akodo</td>\n",
       "      <td>455</td>\n",
       "      <td>191287</td>\n",
       "      <td>6.43546</td>\n",
       "      <td>3.93027</td>\n",
       "    </tr>\n",
       "  </tbody>\n",
       "</table>\n",
       "</div>"
      ],
      "text/plain": [
       "                 Administrative capital  Area (km2)  \\\n",
       "LGA name                                              \n",
       "Alimosho                         Ikotun         185   \n",
       "Ajeromi-Ifelodun       Ajeromi/Ifelodun          12   \n",
       "Kosofe                           Kosofe          81   \n",
       "Mushin                           Mushin          17   \n",
       "Oshodi-Isolo               Oshodi/Isolo          45   \n",
       "Ojo                                 Ojo         158   \n",
       "Ikorodu                         Ikorodu         394   \n",
       "Surulere                       Surulere          23   \n",
       "Agege                             Agege          11   \n",
       "Ifako-Ijaye                       Ifako          27   \n",
       "Shomolu                         Shomolu          12   \n",
       "Amuwo-Odofin                Festac Town         135   \n",
       "Lagos Mainland           Lagos Mainland          19   \n",
       "Ikeja                             Ikeja          46   \n",
       "Eti-Osa                           Ikoyi         192   \n",
       "Badagry                         Badagry         441   \n",
       "Apapa                             Apapa          27   \n",
       "Lagos Island               Lagos Island           9   \n",
       "Epe                                 Epe        1185   \n",
       "Ibeju-Lekki                       Akodo         455   \n",
       "\n",
       "                  Projected 2021 population  Latitude  Longitude  \n",
       "LGA name                                                          \n",
       "Alimosho                            2080425   6.44972    3.08744  \n",
       "Ajeromi-Ifelodun                    1113887   6.45941    3.34055  \n",
       "Kosofe                              1083419   6.59999    3.41509  \n",
       "Mushin                              1030690   6.53174    3.34701  \n",
       "Oshodi-Isolo                        1011966   6.52135    3.31863  \n",
       "Ojo                                  973803   6.46262    3.16696  \n",
       "Ikorodu                              872116   6.62356    3.50483  \n",
       "Surulere                             820592   6.48932    3.35800  \n",
       "Agege                                748891   6.62561    3.31262  \n",
       "Ifako-Ijaye                          696688   6.64394    3.32643  \n",
       "Shomolu                              655648   6.53785    3.38534  \n",
       "Amuwo-Odofin                         518050   6.46566    3.30346  \n",
       "Lagos Mainland                       517324   6.50643    3.37553  \n",
       "Ikeja                                509958   6.60776    3.34854  \n",
       "Eti-Osa                              468583   6.45606    3.44222  \n",
       "Badagry                              392557   6.43216    2.89265  \n",
       "Apapa                                353917   6.43795    3.36436  \n",
       "Lagos Island                         341013   6.45470    3.38876  \n",
       "Epe                                  295377   6.58375    3.97553  \n",
       "Ibeju-Lekki                          191287   6.43546    3.93027  "
      ]
     },
     "execution_count": 22,
     "metadata": {},
     "output_type": "execute_result"
    }
   ],
   "source": [
    "# Print lagos dataframe with appended coordinates \n",
    "\n",
    "df_lagos"
   ]
  },
  {
   "cell_type": "code",
   "execution_count": 24,
   "metadata": {
    "slideshow": {
     "slide_type": "skip"
    }
   },
   "outputs": [
    {
     "name": "stdout",
     "output_type": "stream",
     "text": [
      "The geograpical coordinates of Lagos State, Nigeria are 6.4550575, 3.3941795.\n"
     ]
    }
   ],
   "source": [
    "# Use Nominatim to retrieve the coordinates of Lagos State\n",
    "\n",
    "address = 'Lagos State, Nigeria'\n",
    "\n",
    "geolocator = Nominatim(user_agent=\"LAG_explorer\")\n",
    "location = geolocator.geocode(address)\n",
    "latitude = location.latitude\n",
    "longitude = location.longitude\n",
    "print('The geograpical coordinates of Lagos State, Nigeria are {}, {}.'.format(latitude, longitude))"
   ]
  },
  {
   "cell_type": "code",
   "execution_count": 25,
   "metadata": {
    "slideshow": {
     "slide_type": "skip"
    }
   },
   "outputs": [],
   "source": [
    "# Plot all LGA with admin capital and population in a map\n",
    "\n",
    "map_lagos = folium.Map(location=[latitude, longitude], zoom_start=10)\n",
    "\n",
    "# add markers to map\n",
    "for lat, lng, LGA, admin_capital, population in zip(df_lagos['Latitude'], \n",
    "                                                    df_lagos['Longitude'], \n",
    "                                                    df_lagos.index,\n",
    "                                                    df_lagos['Administrative capital'],\n",
    "                                                    df_lagos['Projected 2021 population']):\n",
    "       \n",
    "    label = '{}, {}, {}'.format(LGA, admin_capital, population)\n",
    "    label = folium.Popup(label, parse_html=True)\n",
    "    folium.Marker(\n",
    "        [lat, lng],\n",
    "        radius=5,\n",
    "        popup=label,\n",
    "        color='blue',\n",
    "        fill=True,\n",
    "        fill_color='#3186cc',\n",
    "        fill_opacity=0.7,\n",
    "        parse_html=False).add_to(map_lagos)  "
   ]
  },
  {
   "cell_type": "code",
   "execution_count": 26,
   "metadata": {
    "slideshow": {
     "slide_type": "slide"
    }
   },
   "outputs": [
    {
     "data": {
      "text/html": [
       "<div style=\"width:100%;\"><div style=\"position:relative;width:100%;height:0;padding-bottom:60%;\"><span style=\"color:#565656\">Make this Notebook Trusted to load map: File -> Trust Notebook</span><iframe src=\"about:blank\" style=\"position:absolute;width:100%;height:100%;left:0;top:0;border:none !important;\" data-html=%3C%21DOCTYPE%20html%3E%0A%3Chead%3E%20%20%20%20%0A%20%20%20%20%3Cmeta%20http-equiv%3D%22content-type%22%20content%3D%22text/html%3B%20charset%3DUTF-8%22%20/%3E%0A%20%20%20%20%0A%20%20%20%20%20%20%20%20%3Cscript%3E%0A%20%20%20%20%20%20%20%20%20%20%20%20L_NO_TOUCH%20%3D%20false%3B%0A%20%20%20%20%20%20%20%20%20%20%20%20L_DISABLE_3D%20%3D%20false%3B%0A%20%20%20%20%20%20%20%20%3C/script%3E%0A%20%20%20%20%0A%20%20%20%20%3Cscript%20src%3D%22https%3A//cdn.jsdelivr.net/npm/leaflet%401.6.0/dist/leaflet.js%22%3E%3C/script%3E%0A%20%20%20%20%3Cscript%20src%3D%22https%3A//code.jquery.com/jquery-1.12.4.min.js%22%3E%3C/script%3E%0A%20%20%20%20%3Cscript%20src%3D%22https%3A//maxcdn.bootstrapcdn.com/bootstrap/3.2.0/js/bootstrap.min.js%22%3E%3C/script%3E%0A%20%20%20%20%3Cscript%20src%3D%22https%3A//cdnjs.cloudflare.com/ajax/libs/Leaflet.awesome-markers/2.0.2/leaflet.awesome-markers.js%22%3E%3C/script%3E%0A%20%20%20%20%3Clink%20rel%3D%22stylesheet%22%20href%3D%22https%3A//cdn.jsdelivr.net/npm/leaflet%401.6.0/dist/leaflet.css%22/%3E%0A%20%20%20%20%3Clink%20rel%3D%22stylesheet%22%20href%3D%22https%3A//maxcdn.bootstrapcdn.com/bootstrap/3.2.0/css/bootstrap.min.css%22/%3E%0A%20%20%20%20%3Clink%20rel%3D%22stylesheet%22%20href%3D%22https%3A//maxcdn.bootstrapcdn.com/bootstrap/3.2.0/css/bootstrap-theme.min.css%22/%3E%0A%20%20%20%20%3Clink%20rel%3D%22stylesheet%22%20href%3D%22https%3A//maxcdn.bootstrapcdn.com/font-awesome/4.6.3/css/font-awesome.min.css%22/%3E%0A%20%20%20%20%3Clink%20rel%3D%22stylesheet%22%20href%3D%22https%3A//cdnjs.cloudflare.com/ajax/libs/Leaflet.awesome-markers/2.0.2/leaflet.awesome-markers.css%22/%3E%0A%20%20%20%20%3Clink%20rel%3D%22stylesheet%22%20href%3D%22https%3A//rawcdn.githack.com/python-visualization/folium/master/folium/templates/leaflet.awesome.rotate.css%22/%3E%0A%20%20%20%20%3Cstyle%3Ehtml%2C%20body%20%7Bwidth%3A%20100%25%3Bheight%3A%20100%25%3Bmargin%3A%200%3Bpadding%3A%200%3B%7D%3C/style%3E%0A%20%20%20%20%3Cstyle%3E%23map%20%7Bposition%3Aabsolute%3Btop%3A0%3Bbottom%3A0%3Bright%3A0%3Bleft%3A0%3B%7D%3C/style%3E%0A%20%20%20%20%0A%20%20%20%20%20%20%20%20%20%20%20%20%3Cmeta%20name%3D%22viewport%22%20content%3D%22width%3Ddevice-width%2C%0A%20%20%20%20%20%20%20%20%20%20%20%20%20%20%20%20initial-scale%3D1.0%2C%20maximum-scale%3D1.0%2C%20user-scalable%3Dno%22%20/%3E%0A%20%20%20%20%20%20%20%20%20%20%20%20%3Cstyle%3E%0A%20%20%20%20%20%20%20%20%20%20%20%20%20%20%20%20%23map_ff805c7f2bc14740bcd0f63d9c4e888c%20%7B%0A%20%20%20%20%20%20%20%20%20%20%20%20%20%20%20%20%20%20%20%20position%3A%20relative%3B%0A%20%20%20%20%20%20%20%20%20%20%20%20%20%20%20%20%20%20%20%20width%3A%20100.0%25%3B%0A%20%20%20%20%20%20%20%20%20%20%20%20%20%20%20%20%20%20%20%20height%3A%20100.0%25%3B%0A%20%20%20%20%20%20%20%20%20%20%20%20%20%20%20%20%20%20%20%20left%3A%200.0%25%3B%0A%20%20%20%20%20%20%20%20%20%20%20%20%20%20%20%20%20%20%20%20top%3A%200.0%25%3B%0A%20%20%20%20%20%20%20%20%20%20%20%20%20%20%20%20%7D%0A%20%20%20%20%20%20%20%20%20%20%20%20%3C/style%3E%0A%20%20%20%20%20%20%20%20%0A%3C/head%3E%0A%3Cbody%3E%20%20%20%20%0A%20%20%20%20%0A%20%20%20%20%20%20%20%20%20%20%20%20%3Cdiv%20class%3D%22folium-map%22%20id%3D%22map_ff805c7f2bc14740bcd0f63d9c4e888c%22%20%3E%3C/div%3E%0A%20%20%20%20%20%20%20%20%0A%3C/body%3E%0A%3Cscript%3E%20%20%20%20%0A%20%20%20%20%0A%20%20%20%20%20%20%20%20%20%20%20%20var%20map_ff805c7f2bc14740bcd0f63d9c4e888c%20%3D%20L.map%28%0A%20%20%20%20%20%20%20%20%20%20%20%20%20%20%20%20%22map_ff805c7f2bc14740bcd0f63d9c4e888c%22%2C%0A%20%20%20%20%20%20%20%20%20%20%20%20%20%20%20%20%7B%0A%20%20%20%20%20%20%20%20%20%20%20%20%20%20%20%20%20%20%20%20center%3A%20%5B6.4550575%2C%203.3941795%5D%2C%0A%20%20%20%20%20%20%20%20%20%20%20%20%20%20%20%20%20%20%20%20crs%3A%20L.CRS.EPSG3857%2C%0A%20%20%20%20%20%20%20%20%20%20%20%20%20%20%20%20%20%20%20%20zoom%3A%2010%2C%0A%20%20%20%20%20%20%20%20%20%20%20%20%20%20%20%20%20%20%20%20zoomControl%3A%20true%2C%0A%20%20%20%20%20%20%20%20%20%20%20%20%20%20%20%20%20%20%20%20preferCanvas%3A%20false%2C%0A%20%20%20%20%20%20%20%20%20%20%20%20%20%20%20%20%7D%0A%20%20%20%20%20%20%20%20%20%20%20%20%29%3B%0A%0A%20%20%20%20%20%20%20%20%20%20%20%20%0A%0A%20%20%20%20%20%20%20%20%0A%20%20%20%20%0A%20%20%20%20%20%20%20%20%20%20%20%20var%20tile_layer_6f94096f50ab4b9eb475cf2922d3ad98%20%3D%20L.tileLayer%28%0A%20%20%20%20%20%20%20%20%20%20%20%20%20%20%20%20%22https%3A//%7Bs%7D.tile.openstreetmap.org/%7Bz%7D/%7Bx%7D/%7By%7D.png%22%2C%0A%20%20%20%20%20%20%20%20%20%20%20%20%20%20%20%20%7B%22attribution%22%3A%20%22Data%20by%20%5Cu0026copy%3B%20%5Cu003ca%20href%3D%5C%22http%3A//openstreetmap.org%5C%22%5Cu003eOpenStreetMap%5Cu003c/a%5Cu003e%2C%20under%20%5Cu003ca%20href%3D%5C%22http%3A//www.openstreetmap.org/copyright%5C%22%5Cu003eODbL%5Cu003c/a%5Cu003e.%22%2C%20%22detectRetina%22%3A%20false%2C%20%22maxNativeZoom%22%3A%2018%2C%20%22maxZoom%22%3A%2018%2C%20%22minZoom%22%3A%200%2C%20%22noWrap%22%3A%20false%2C%20%22opacity%22%3A%201%2C%20%22subdomains%22%3A%20%22abc%22%2C%20%22tms%22%3A%20false%7D%0A%20%20%20%20%20%20%20%20%20%20%20%20%29.addTo%28map_ff805c7f2bc14740bcd0f63d9c4e888c%29%3B%0A%20%20%20%20%20%20%20%20%0A%20%20%20%20%0A%20%20%20%20%20%20%20%20%20%20%20%20var%20marker_05b5ed6e96f3427cb882ecdbc4d70d1a%20%3D%20L.marker%28%0A%20%20%20%20%20%20%20%20%20%20%20%20%20%20%20%20%5B6.44972000000007%2C%203.087440000000072%5D%2C%0A%20%20%20%20%20%20%20%20%20%20%20%20%20%20%20%20%7B%22color%22%3A%20%22blue%22%2C%20%22fill%22%3A%20true%2C%20%22fillColor%22%3A%20%22%233186cc%22%2C%20%22fillOpacity%22%3A%200.7%2C%20%22parseHtml%22%3A%20false%2C%20%22radius%22%3A%205%7D%0A%20%20%20%20%20%20%20%20%20%20%20%20%29.addTo%28map_ff805c7f2bc14740bcd0f63d9c4e888c%29%3B%0A%20%20%20%20%20%20%20%20%0A%20%20%20%20%0A%20%20%20%20%20%20%20%20var%20popup_cac37f7477fd458ea71dbbee64b7d6ba%20%3D%20L.popup%28%7B%22maxWidth%22%3A%20%22100%25%22%7D%29%3B%0A%0A%20%20%20%20%20%20%20%20%0A%20%20%20%20%20%20%20%20%20%20%20%20var%20html_a95023a9cdb34584b2bef877c39e9f0a%20%3D%20%24%28%60%3Cdiv%20id%3D%22html_a95023a9cdb34584b2bef877c39e9f0a%22%20style%3D%22width%3A%20100.0%25%3B%20height%3A%20100.0%25%3B%22%3EAlimosho%2C%20Ikotun%2C%202080425%3C/div%3E%60%29%5B0%5D%3B%0A%20%20%20%20%20%20%20%20%20%20%20%20popup_cac37f7477fd458ea71dbbee64b7d6ba.setContent%28html_a95023a9cdb34584b2bef877c39e9f0a%29%3B%0A%20%20%20%20%20%20%20%20%0A%0A%20%20%20%20%20%20%20%20marker_05b5ed6e96f3427cb882ecdbc4d70d1a.bindPopup%28popup_cac37f7477fd458ea71dbbee64b7d6ba%29%0A%20%20%20%20%20%20%20%20%3B%0A%0A%20%20%20%20%20%20%20%20%0A%20%20%20%20%0A%20%20%20%20%0A%20%20%20%20%20%20%20%20%20%20%20%20var%20marker_9e5dfae2c55443ce8e5e68a1af2fd3b1%20%3D%20L.marker%28%0A%20%20%20%20%20%20%20%20%20%20%20%20%20%20%20%20%5B6.459410000000048%2C%203.3405500000000643%5D%2C%0A%20%20%20%20%20%20%20%20%20%20%20%20%20%20%20%20%7B%22color%22%3A%20%22blue%22%2C%20%22fill%22%3A%20true%2C%20%22fillColor%22%3A%20%22%233186cc%22%2C%20%22fillOpacity%22%3A%200.7%2C%20%22parseHtml%22%3A%20false%2C%20%22radius%22%3A%205%7D%0A%20%20%20%20%20%20%20%20%20%20%20%20%29.addTo%28map_ff805c7f2bc14740bcd0f63d9c4e888c%29%3B%0A%20%20%20%20%20%20%20%20%0A%20%20%20%20%0A%20%20%20%20%20%20%20%20var%20popup_e13fa7dfc46e40da86e1f9b2ec16df09%20%3D%20L.popup%28%7B%22maxWidth%22%3A%20%22100%25%22%7D%29%3B%0A%0A%20%20%20%20%20%20%20%20%0A%20%20%20%20%20%20%20%20%20%20%20%20var%20html_4d2047a958894572ab295439973d4ab7%20%3D%20%24%28%60%3Cdiv%20id%3D%22html_4d2047a958894572ab295439973d4ab7%22%20style%3D%22width%3A%20100.0%25%3B%20height%3A%20100.0%25%3B%22%3EAjeromi-Ifelodun%2C%20Ajeromi/Ifelodun%2C%201113887%3C/div%3E%60%29%5B0%5D%3B%0A%20%20%20%20%20%20%20%20%20%20%20%20popup_e13fa7dfc46e40da86e1f9b2ec16df09.setContent%28html_4d2047a958894572ab295439973d4ab7%29%3B%0A%20%20%20%20%20%20%20%20%0A%0A%20%20%20%20%20%20%20%20marker_9e5dfae2c55443ce8e5e68a1af2fd3b1.bindPopup%28popup_e13fa7dfc46e40da86e1f9b2ec16df09%29%0A%20%20%20%20%20%20%20%20%3B%0A%0A%20%20%20%20%20%20%20%20%0A%20%20%20%20%0A%20%20%20%20%0A%20%20%20%20%20%20%20%20%20%20%20%20var%20marker_8ace75c56bb4423584520d089ba55a00%20%3D%20L.marker%28%0A%20%20%20%20%20%20%20%20%20%20%20%20%20%20%20%20%5B6.599990000000048%2C%203.4150900000000206%5D%2C%0A%20%20%20%20%20%20%20%20%20%20%20%20%20%20%20%20%7B%22color%22%3A%20%22blue%22%2C%20%22fill%22%3A%20true%2C%20%22fillColor%22%3A%20%22%233186cc%22%2C%20%22fillOpacity%22%3A%200.7%2C%20%22parseHtml%22%3A%20false%2C%20%22radius%22%3A%205%7D%0A%20%20%20%20%20%20%20%20%20%20%20%20%29.addTo%28map_ff805c7f2bc14740bcd0f63d9c4e888c%29%3B%0A%20%20%20%20%20%20%20%20%0A%20%20%20%20%0A%20%20%20%20%20%20%20%20var%20popup_abe035b03e5f4844811eda430139448e%20%3D%20L.popup%28%7B%22maxWidth%22%3A%20%22100%25%22%7D%29%3B%0A%0A%20%20%20%20%20%20%20%20%0A%20%20%20%20%20%20%20%20%20%20%20%20var%20html_88656608fa1d448cb1f58ba19ea53503%20%3D%20%24%28%60%3Cdiv%20id%3D%22html_88656608fa1d448cb1f58ba19ea53503%22%20style%3D%22width%3A%20100.0%25%3B%20height%3A%20100.0%25%3B%22%3EKosofe%2C%20Kosofe%2C%201083419%3C/div%3E%60%29%5B0%5D%3B%0A%20%20%20%20%20%20%20%20%20%20%20%20popup_abe035b03e5f4844811eda430139448e.setContent%28html_88656608fa1d448cb1f58ba19ea53503%29%3B%0A%20%20%20%20%20%20%20%20%0A%0A%20%20%20%20%20%20%20%20marker_8ace75c56bb4423584520d089ba55a00.bindPopup%28popup_abe035b03e5f4844811eda430139448e%29%0A%20%20%20%20%20%20%20%20%3B%0A%0A%20%20%20%20%20%20%20%20%0A%20%20%20%20%0A%20%20%20%20%0A%20%20%20%20%20%20%20%20%20%20%20%20var%20marker_564dbb4aa2ef430b8190d3fbd33c0db7%20%3D%20L.marker%28%0A%20%20%20%20%20%20%20%20%20%20%20%20%20%20%20%20%5B6.53174000000007%2C%203.3470100000000684%5D%2C%0A%20%20%20%20%20%20%20%20%20%20%20%20%20%20%20%20%7B%22color%22%3A%20%22blue%22%2C%20%22fill%22%3A%20true%2C%20%22fillColor%22%3A%20%22%233186cc%22%2C%20%22fillOpacity%22%3A%200.7%2C%20%22parseHtml%22%3A%20false%2C%20%22radius%22%3A%205%7D%0A%20%20%20%20%20%20%20%20%20%20%20%20%29.addTo%28map_ff805c7f2bc14740bcd0f63d9c4e888c%29%3B%0A%20%20%20%20%20%20%20%20%0A%20%20%20%20%0A%20%20%20%20%20%20%20%20var%20popup_efb5f2338adf444481f4e221f2077c25%20%3D%20L.popup%28%7B%22maxWidth%22%3A%20%22100%25%22%7D%29%3B%0A%0A%20%20%20%20%20%20%20%20%0A%20%20%20%20%20%20%20%20%20%20%20%20var%20html_9e747e7296374d4bbcec8016bf25c2cf%20%3D%20%24%28%60%3Cdiv%20id%3D%22html_9e747e7296374d4bbcec8016bf25c2cf%22%20style%3D%22width%3A%20100.0%25%3B%20height%3A%20100.0%25%3B%22%3EMushin%2C%20Mushin%2C%201030690%3C/div%3E%60%29%5B0%5D%3B%0A%20%20%20%20%20%20%20%20%20%20%20%20popup_efb5f2338adf444481f4e221f2077c25.setContent%28html_9e747e7296374d4bbcec8016bf25c2cf%29%3B%0A%20%20%20%20%20%20%20%20%0A%0A%20%20%20%20%20%20%20%20marker_564dbb4aa2ef430b8190d3fbd33c0db7.bindPopup%28popup_efb5f2338adf444481f4e221f2077c25%29%0A%20%20%20%20%20%20%20%20%3B%0A%0A%20%20%20%20%20%20%20%20%0A%20%20%20%20%0A%20%20%20%20%0A%20%20%20%20%20%20%20%20%20%20%20%20var%20marker_86ac5e89166648aba5433511eea7a3ae%20%3D%20L.marker%28%0A%20%20%20%20%20%20%20%20%20%20%20%20%20%20%20%20%5B6.521350000000041%2C%203.3186300000000415%5D%2C%0A%20%20%20%20%20%20%20%20%20%20%20%20%20%20%20%20%7B%22color%22%3A%20%22blue%22%2C%20%22fill%22%3A%20true%2C%20%22fillColor%22%3A%20%22%233186cc%22%2C%20%22fillOpacity%22%3A%200.7%2C%20%22parseHtml%22%3A%20false%2C%20%22radius%22%3A%205%7D%0A%20%20%20%20%20%20%20%20%20%20%20%20%29.addTo%28map_ff805c7f2bc14740bcd0f63d9c4e888c%29%3B%0A%20%20%20%20%20%20%20%20%0A%20%20%20%20%0A%20%20%20%20%20%20%20%20var%20popup_98ff65d46e8744149e3a7963d53a2c35%20%3D%20L.popup%28%7B%22maxWidth%22%3A%20%22100%25%22%7D%29%3B%0A%0A%20%20%20%20%20%20%20%20%0A%20%20%20%20%20%20%20%20%20%20%20%20var%20html_9bb06a1ae3e64f3e8977ed093fea65d9%20%3D%20%24%28%60%3Cdiv%20id%3D%22html_9bb06a1ae3e64f3e8977ed093fea65d9%22%20style%3D%22width%3A%20100.0%25%3B%20height%3A%20100.0%25%3B%22%3EOshodi-Isolo%2C%20Oshodi/Isolo%2C%201011966%3C/div%3E%60%29%5B0%5D%3B%0A%20%20%20%20%20%20%20%20%20%20%20%20popup_98ff65d46e8744149e3a7963d53a2c35.setContent%28html_9bb06a1ae3e64f3e8977ed093fea65d9%29%3B%0A%20%20%20%20%20%20%20%20%0A%0A%20%20%20%20%20%20%20%20marker_86ac5e89166648aba5433511eea7a3ae.bindPopup%28popup_98ff65d46e8744149e3a7963d53a2c35%29%0A%20%20%20%20%20%20%20%20%3B%0A%0A%20%20%20%20%20%20%20%20%0A%20%20%20%20%0A%20%20%20%20%0A%20%20%20%20%20%20%20%20%20%20%20%20var%20marker_5b45d517615a4e6383dec25b7358dcd8%20%3D%20L.marker%28%0A%20%20%20%20%20%20%20%20%20%20%20%20%20%20%20%20%5B6.462620000000072%2C%203.166960000000074%5D%2C%0A%20%20%20%20%20%20%20%20%20%20%20%20%20%20%20%20%7B%22color%22%3A%20%22blue%22%2C%20%22fill%22%3A%20true%2C%20%22fillColor%22%3A%20%22%233186cc%22%2C%20%22fillOpacity%22%3A%200.7%2C%20%22parseHtml%22%3A%20false%2C%20%22radius%22%3A%205%7D%0A%20%20%20%20%20%20%20%20%20%20%20%20%29.addTo%28map_ff805c7f2bc14740bcd0f63d9c4e888c%29%3B%0A%20%20%20%20%20%20%20%20%0A%20%20%20%20%0A%20%20%20%20%20%20%20%20var%20popup_a4f5f8724b2f4d779acc746057f65cf9%20%3D%20L.popup%28%7B%22maxWidth%22%3A%20%22100%25%22%7D%29%3B%0A%0A%20%20%20%20%20%20%20%20%0A%20%20%20%20%20%20%20%20%20%20%20%20var%20html_38f397eec7e44a3ebafa055cb21764f3%20%3D%20%24%28%60%3Cdiv%20id%3D%22html_38f397eec7e44a3ebafa055cb21764f3%22%20style%3D%22width%3A%20100.0%25%3B%20height%3A%20100.0%25%3B%22%3EOjo%2C%20Ojo%2C%20973803%3C/div%3E%60%29%5B0%5D%3B%0A%20%20%20%20%20%20%20%20%20%20%20%20popup_a4f5f8724b2f4d779acc746057f65cf9.setContent%28html_38f397eec7e44a3ebafa055cb21764f3%29%3B%0A%20%20%20%20%20%20%20%20%0A%0A%20%20%20%20%20%20%20%20marker_5b45d517615a4e6383dec25b7358dcd8.bindPopup%28popup_a4f5f8724b2f4d779acc746057f65cf9%29%0A%20%20%20%20%20%20%20%20%3B%0A%0A%20%20%20%20%20%20%20%20%0A%20%20%20%20%0A%20%20%20%20%0A%20%20%20%20%20%20%20%20%20%20%20%20var%20marker_3f63e4562c33499c877a8dc48ea9c969%20%3D%20L.marker%28%0A%20%20%20%20%20%20%20%20%20%20%20%20%20%20%20%20%5B6.6235600000000545%2C%203.5048300000000268%5D%2C%0A%20%20%20%20%20%20%20%20%20%20%20%20%20%20%20%20%7B%22color%22%3A%20%22blue%22%2C%20%22fill%22%3A%20true%2C%20%22fillColor%22%3A%20%22%233186cc%22%2C%20%22fillOpacity%22%3A%200.7%2C%20%22parseHtml%22%3A%20false%2C%20%22radius%22%3A%205%7D%0A%20%20%20%20%20%20%20%20%20%20%20%20%29.addTo%28map_ff805c7f2bc14740bcd0f63d9c4e888c%29%3B%0A%20%20%20%20%20%20%20%20%0A%20%20%20%20%0A%20%20%20%20%20%20%20%20var%20popup_2c8781da1e514e13ae660ecbe128595c%20%3D%20L.popup%28%7B%22maxWidth%22%3A%20%22100%25%22%7D%29%3B%0A%0A%20%20%20%20%20%20%20%20%0A%20%20%20%20%20%20%20%20%20%20%20%20var%20html_69c91cbfdc7a4dfdac3bb79aa6daba6d%20%3D%20%24%28%60%3Cdiv%20id%3D%22html_69c91cbfdc7a4dfdac3bb79aa6daba6d%22%20style%3D%22width%3A%20100.0%25%3B%20height%3A%20100.0%25%3B%22%3EIkorodu%2C%20Ikorodu%2C%20872116%3C/div%3E%60%29%5B0%5D%3B%0A%20%20%20%20%20%20%20%20%20%20%20%20popup_2c8781da1e514e13ae660ecbe128595c.setContent%28html_69c91cbfdc7a4dfdac3bb79aa6daba6d%29%3B%0A%20%20%20%20%20%20%20%20%0A%0A%20%20%20%20%20%20%20%20marker_3f63e4562c33499c877a8dc48ea9c969.bindPopup%28popup_2c8781da1e514e13ae660ecbe128595c%29%0A%20%20%20%20%20%20%20%20%3B%0A%0A%20%20%20%20%20%20%20%20%0A%20%20%20%20%0A%20%20%20%20%0A%20%20%20%20%20%20%20%20%20%20%20%20var%20marker_c484081b3191491182338a5e1b80062c%20%3D%20L.marker%28%0A%20%20%20%20%20%20%20%20%20%20%20%20%20%20%20%20%5B6.489320000000021%2C%203.358000000000061%5D%2C%0A%20%20%20%20%20%20%20%20%20%20%20%20%20%20%20%20%7B%22color%22%3A%20%22blue%22%2C%20%22fill%22%3A%20true%2C%20%22fillColor%22%3A%20%22%233186cc%22%2C%20%22fillOpacity%22%3A%200.7%2C%20%22parseHtml%22%3A%20false%2C%20%22radius%22%3A%205%7D%0A%20%20%20%20%20%20%20%20%20%20%20%20%29.addTo%28map_ff805c7f2bc14740bcd0f63d9c4e888c%29%3B%0A%20%20%20%20%20%20%20%20%0A%20%20%20%20%0A%20%20%20%20%20%20%20%20var%20popup_b1ec3e8ad85749518b0bc3bbc8d46aae%20%3D%20L.popup%28%7B%22maxWidth%22%3A%20%22100%25%22%7D%29%3B%0A%0A%20%20%20%20%20%20%20%20%0A%20%20%20%20%20%20%20%20%20%20%20%20var%20html_09f7e956225f4e5a9f1ab0369a920ecc%20%3D%20%24%28%60%3Cdiv%20id%3D%22html_09f7e956225f4e5a9f1ab0369a920ecc%22%20style%3D%22width%3A%20100.0%25%3B%20height%3A%20100.0%25%3B%22%3ESurulere%2C%20Surulere%2C%20820592%3C/div%3E%60%29%5B0%5D%3B%0A%20%20%20%20%20%20%20%20%20%20%20%20popup_b1ec3e8ad85749518b0bc3bbc8d46aae.setContent%28html_09f7e956225f4e5a9f1ab0369a920ecc%29%3B%0A%20%20%20%20%20%20%20%20%0A%0A%20%20%20%20%20%20%20%20marker_c484081b3191491182338a5e1b80062c.bindPopup%28popup_b1ec3e8ad85749518b0bc3bbc8d46aae%29%0A%20%20%20%20%20%20%20%20%3B%0A%0A%20%20%20%20%20%20%20%20%0A%20%20%20%20%0A%20%20%20%20%0A%20%20%20%20%20%20%20%20%20%20%20%20var%20marker_83851c7899434ab09570ef7ab4c0cd9d%20%3D%20L.marker%28%0A%20%20%20%20%20%20%20%20%20%20%20%20%20%20%20%20%5B6.6256100000000515%2C%203.312620000000038%5D%2C%0A%20%20%20%20%20%20%20%20%20%20%20%20%20%20%20%20%7B%22color%22%3A%20%22blue%22%2C%20%22fill%22%3A%20true%2C%20%22fillColor%22%3A%20%22%233186cc%22%2C%20%22fillOpacity%22%3A%200.7%2C%20%22parseHtml%22%3A%20false%2C%20%22radius%22%3A%205%7D%0A%20%20%20%20%20%20%20%20%20%20%20%20%29.addTo%28map_ff805c7f2bc14740bcd0f63d9c4e888c%29%3B%0A%20%20%20%20%20%20%20%20%0A%20%20%20%20%0A%20%20%20%20%20%20%20%20var%20popup_f42ce7a17f0f4190831ec7313208ef24%20%3D%20L.popup%28%7B%22maxWidth%22%3A%20%22100%25%22%7D%29%3B%0A%0A%20%20%20%20%20%20%20%20%0A%20%20%20%20%20%20%20%20%20%20%20%20var%20html_e18e6afbf2374bc6a0ea18a2115ffdf6%20%3D%20%24%28%60%3Cdiv%20id%3D%22html_e18e6afbf2374bc6a0ea18a2115ffdf6%22%20style%3D%22width%3A%20100.0%25%3B%20height%3A%20100.0%25%3B%22%3EAgege%2C%20Agege%2C%20748891%3C/div%3E%60%29%5B0%5D%3B%0A%20%20%20%20%20%20%20%20%20%20%20%20popup_f42ce7a17f0f4190831ec7313208ef24.setContent%28html_e18e6afbf2374bc6a0ea18a2115ffdf6%29%3B%0A%20%20%20%20%20%20%20%20%0A%0A%20%20%20%20%20%20%20%20marker_83851c7899434ab09570ef7ab4c0cd9d.bindPopup%28popup_f42ce7a17f0f4190831ec7313208ef24%29%0A%20%20%20%20%20%20%20%20%3B%0A%0A%20%20%20%20%20%20%20%20%0A%20%20%20%20%0A%20%20%20%20%0A%20%20%20%20%20%20%20%20%20%20%20%20var%20marker_bc945747cb9e40b3a6c9a142a33c8ab6%20%3D%20L.marker%28%0A%20%20%20%20%20%20%20%20%20%20%20%20%20%20%20%20%5B6.643940000000043%2C%203.326430000000073%5D%2C%0A%20%20%20%20%20%20%20%20%20%20%20%20%20%20%20%20%7B%22color%22%3A%20%22blue%22%2C%20%22fill%22%3A%20true%2C%20%22fillColor%22%3A%20%22%233186cc%22%2C%20%22fillOpacity%22%3A%200.7%2C%20%22parseHtml%22%3A%20false%2C%20%22radius%22%3A%205%7D%0A%20%20%20%20%20%20%20%20%20%20%20%20%29.addTo%28map_ff805c7f2bc14740bcd0f63d9c4e888c%29%3B%0A%20%20%20%20%20%20%20%20%0A%20%20%20%20%0A%20%20%20%20%20%20%20%20var%20popup_f0b1cd15e9f64369a18c39629d69d678%20%3D%20L.popup%28%7B%22maxWidth%22%3A%20%22100%25%22%7D%29%3B%0A%0A%20%20%20%20%20%20%20%20%0A%20%20%20%20%20%20%20%20%20%20%20%20var%20html_e59c12a7d6254eba845d3476d5291301%20%3D%20%24%28%60%3Cdiv%20id%3D%22html_e59c12a7d6254eba845d3476d5291301%22%20style%3D%22width%3A%20100.0%25%3B%20height%3A%20100.0%25%3B%22%3EIfako-Ijaye%2C%20Ifako%2C%20696688%3C/div%3E%60%29%5B0%5D%3B%0A%20%20%20%20%20%20%20%20%20%20%20%20popup_f0b1cd15e9f64369a18c39629d69d678.setContent%28html_e59c12a7d6254eba845d3476d5291301%29%3B%0A%20%20%20%20%20%20%20%20%0A%0A%20%20%20%20%20%20%20%20marker_bc945747cb9e40b3a6c9a142a33c8ab6.bindPopup%28popup_f0b1cd15e9f64369a18c39629d69d678%29%0A%20%20%20%20%20%20%20%20%3B%0A%0A%20%20%20%20%20%20%20%20%0A%20%20%20%20%0A%20%20%20%20%0A%20%20%20%20%20%20%20%20%20%20%20%20var%20marker_767dfe98c1e847e38340e9b9f266ebd0%20%3D%20L.marker%28%0A%20%20%20%20%20%20%20%20%20%20%20%20%20%20%20%20%5B6.537850000000049%2C%203.385340000000042%5D%2C%0A%20%20%20%20%20%20%20%20%20%20%20%20%20%20%20%20%7B%22color%22%3A%20%22blue%22%2C%20%22fill%22%3A%20true%2C%20%22fillColor%22%3A%20%22%233186cc%22%2C%20%22fillOpacity%22%3A%200.7%2C%20%22parseHtml%22%3A%20false%2C%20%22radius%22%3A%205%7D%0A%20%20%20%20%20%20%20%20%20%20%20%20%29.addTo%28map_ff805c7f2bc14740bcd0f63d9c4e888c%29%3B%0A%20%20%20%20%20%20%20%20%0A%20%20%20%20%0A%20%20%20%20%20%20%20%20var%20popup_025efb59ee18492984401b71e6f2f279%20%3D%20L.popup%28%7B%22maxWidth%22%3A%20%22100%25%22%7D%29%3B%0A%0A%20%20%20%20%20%20%20%20%0A%20%20%20%20%20%20%20%20%20%20%20%20var%20html_9b6deb16766a4b39a2db3d5d04f244e1%20%3D%20%24%28%60%3Cdiv%20id%3D%22html_9b6deb16766a4b39a2db3d5d04f244e1%22%20style%3D%22width%3A%20100.0%25%3B%20height%3A%20100.0%25%3B%22%3EShomolu%2C%20Shomolu%2C%20655648%3C/div%3E%60%29%5B0%5D%3B%0A%20%20%20%20%20%20%20%20%20%20%20%20popup_025efb59ee18492984401b71e6f2f279.setContent%28html_9b6deb16766a4b39a2db3d5d04f244e1%29%3B%0A%20%20%20%20%20%20%20%20%0A%0A%20%20%20%20%20%20%20%20marker_767dfe98c1e847e38340e9b9f266ebd0.bindPopup%28popup_025efb59ee18492984401b71e6f2f279%29%0A%20%20%20%20%20%20%20%20%3B%0A%0A%20%20%20%20%20%20%20%20%0A%20%20%20%20%0A%20%20%20%20%0A%20%20%20%20%20%20%20%20%20%20%20%20var%20marker_d8f382fcf6ba434997aafc2efad36e6c%20%3D%20L.marker%28%0A%20%20%20%20%20%20%20%20%20%20%20%20%20%20%20%20%5B6.465660000000071%2C%203.3034600000000296%5D%2C%0A%20%20%20%20%20%20%20%20%20%20%20%20%20%20%20%20%7B%22color%22%3A%20%22blue%22%2C%20%22fill%22%3A%20true%2C%20%22fillColor%22%3A%20%22%233186cc%22%2C%20%22fillOpacity%22%3A%200.7%2C%20%22parseHtml%22%3A%20false%2C%20%22radius%22%3A%205%7D%0A%20%20%20%20%20%20%20%20%20%20%20%20%29.addTo%28map_ff805c7f2bc14740bcd0f63d9c4e888c%29%3B%0A%20%20%20%20%20%20%20%20%0A%20%20%20%20%0A%20%20%20%20%20%20%20%20var%20popup_ba0a09bbfc8e4f0a8865c55dc8fdadf0%20%3D%20L.popup%28%7B%22maxWidth%22%3A%20%22100%25%22%7D%29%3B%0A%0A%20%20%20%20%20%20%20%20%0A%20%20%20%20%20%20%20%20%20%20%20%20var%20html_51d6f355286a4bb2a96d118360ad97ef%20%3D%20%24%28%60%3Cdiv%20id%3D%22html_51d6f355286a4bb2a96d118360ad97ef%22%20style%3D%22width%3A%20100.0%25%3B%20height%3A%20100.0%25%3B%22%3EAmuwo-Odofin%2C%20Festac%20Town%2C%20518050%3C/div%3E%60%29%5B0%5D%3B%0A%20%20%20%20%20%20%20%20%20%20%20%20popup_ba0a09bbfc8e4f0a8865c55dc8fdadf0.setContent%28html_51d6f355286a4bb2a96d118360ad97ef%29%3B%0A%20%20%20%20%20%20%20%20%0A%0A%20%20%20%20%20%20%20%20marker_d8f382fcf6ba434997aafc2efad36e6c.bindPopup%28popup_ba0a09bbfc8e4f0a8865c55dc8fdadf0%29%0A%20%20%20%20%20%20%20%20%3B%0A%0A%20%20%20%20%20%20%20%20%0A%20%20%20%20%0A%20%20%20%20%0A%20%20%20%20%20%20%20%20%20%20%20%20var%20marker_f5d61b27371740619e79b6266161b210%20%3D%20L.marker%28%0A%20%20%20%20%20%20%20%20%20%20%20%20%20%20%20%20%5B6.506430000000023%2C%203.375530000000026%5D%2C%0A%20%20%20%20%20%20%20%20%20%20%20%20%20%20%20%20%7B%22color%22%3A%20%22blue%22%2C%20%22fill%22%3A%20true%2C%20%22fillColor%22%3A%20%22%233186cc%22%2C%20%22fillOpacity%22%3A%200.7%2C%20%22parseHtml%22%3A%20false%2C%20%22radius%22%3A%205%7D%0A%20%20%20%20%20%20%20%20%20%20%20%20%29.addTo%28map_ff805c7f2bc14740bcd0f63d9c4e888c%29%3B%0A%20%20%20%20%20%20%20%20%0A%20%20%20%20%0A%20%20%20%20%20%20%20%20var%20popup_e02d5614c8ba46d8b597c166eb7d7ee2%20%3D%20L.popup%28%7B%22maxWidth%22%3A%20%22100%25%22%7D%29%3B%0A%0A%20%20%20%20%20%20%20%20%0A%20%20%20%20%20%20%20%20%20%20%20%20var%20html_5f98c43bf9a7478c862928231aa99806%20%3D%20%24%28%60%3Cdiv%20id%3D%22html_5f98c43bf9a7478c862928231aa99806%22%20style%3D%22width%3A%20100.0%25%3B%20height%3A%20100.0%25%3B%22%3ELagos%20Mainland%2C%20Lagos%20Mainland%2C%20517324%3C/div%3E%60%29%5B0%5D%3B%0A%20%20%20%20%20%20%20%20%20%20%20%20popup_e02d5614c8ba46d8b597c166eb7d7ee2.setContent%28html_5f98c43bf9a7478c862928231aa99806%29%3B%0A%20%20%20%20%20%20%20%20%0A%0A%20%20%20%20%20%20%20%20marker_f5d61b27371740619e79b6266161b210.bindPopup%28popup_e02d5614c8ba46d8b597c166eb7d7ee2%29%0A%20%20%20%20%20%20%20%20%3B%0A%0A%20%20%20%20%20%20%20%20%0A%20%20%20%20%0A%20%20%20%20%0A%20%20%20%20%20%20%20%20%20%20%20%20var%20marker_dcfaa22359124a2eaf428337c7a47a3d%20%3D%20L.marker%28%0A%20%20%20%20%20%20%20%20%20%20%20%20%20%20%20%20%5B6.607760000000042%2C%203.348540000000071%5D%2C%0A%20%20%20%20%20%20%20%20%20%20%20%20%20%20%20%20%7B%22color%22%3A%20%22blue%22%2C%20%22fill%22%3A%20true%2C%20%22fillColor%22%3A%20%22%233186cc%22%2C%20%22fillOpacity%22%3A%200.7%2C%20%22parseHtml%22%3A%20false%2C%20%22radius%22%3A%205%7D%0A%20%20%20%20%20%20%20%20%20%20%20%20%29.addTo%28map_ff805c7f2bc14740bcd0f63d9c4e888c%29%3B%0A%20%20%20%20%20%20%20%20%0A%20%20%20%20%0A%20%20%20%20%20%20%20%20var%20popup_d55f6e3e3e9c41f1ab57020bab2968b1%20%3D%20L.popup%28%7B%22maxWidth%22%3A%20%22100%25%22%7D%29%3B%0A%0A%20%20%20%20%20%20%20%20%0A%20%20%20%20%20%20%20%20%20%20%20%20var%20html_a22bec0f16954f709c4a9e7d1ef5c0bf%20%3D%20%24%28%60%3Cdiv%20id%3D%22html_a22bec0f16954f709c4a9e7d1ef5c0bf%22%20style%3D%22width%3A%20100.0%25%3B%20height%3A%20100.0%25%3B%22%3EIkeja%2C%20Ikeja%2C%20509958%3C/div%3E%60%29%5B0%5D%3B%0A%20%20%20%20%20%20%20%20%20%20%20%20popup_d55f6e3e3e9c41f1ab57020bab2968b1.setContent%28html_a22bec0f16954f709c4a9e7d1ef5c0bf%29%3B%0A%20%20%20%20%20%20%20%20%0A%0A%20%20%20%20%20%20%20%20marker_dcfaa22359124a2eaf428337c7a47a3d.bindPopup%28popup_d55f6e3e3e9c41f1ab57020bab2968b1%29%0A%20%20%20%20%20%20%20%20%3B%0A%0A%20%20%20%20%20%20%20%20%0A%20%20%20%20%0A%20%20%20%20%0A%20%20%20%20%20%20%20%20%20%20%20%20var%20marker_758ac57c078e45498e04467b5824818c%20%3D%20L.marker%28%0A%20%20%20%20%20%20%20%20%20%20%20%20%20%20%20%20%5B6.456060000000036%2C%203.4422200000000203%5D%2C%0A%20%20%20%20%20%20%20%20%20%20%20%20%20%20%20%20%7B%22color%22%3A%20%22blue%22%2C%20%22fill%22%3A%20true%2C%20%22fillColor%22%3A%20%22%233186cc%22%2C%20%22fillOpacity%22%3A%200.7%2C%20%22parseHtml%22%3A%20false%2C%20%22radius%22%3A%205%7D%0A%20%20%20%20%20%20%20%20%20%20%20%20%29.addTo%28map_ff805c7f2bc14740bcd0f63d9c4e888c%29%3B%0A%20%20%20%20%20%20%20%20%0A%20%20%20%20%0A%20%20%20%20%20%20%20%20var%20popup_ad58515ead204e03bc299ef9f9493b90%20%3D%20L.popup%28%7B%22maxWidth%22%3A%20%22100%25%22%7D%29%3B%0A%0A%20%20%20%20%20%20%20%20%0A%20%20%20%20%20%20%20%20%20%20%20%20var%20html_ac1bcd1c0b0946fcadeb6ed6ed280b7f%20%3D%20%24%28%60%3Cdiv%20id%3D%22html_ac1bcd1c0b0946fcadeb6ed6ed280b7f%22%20style%3D%22width%3A%20100.0%25%3B%20height%3A%20100.0%25%3B%22%3EEti-Osa%2C%20Ikoyi%2C%20468583%3C/div%3E%60%29%5B0%5D%3B%0A%20%20%20%20%20%20%20%20%20%20%20%20popup_ad58515ead204e03bc299ef9f9493b90.setContent%28html_ac1bcd1c0b0946fcadeb6ed6ed280b7f%29%3B%0A%20%20%20%20%20%20%20%20%0A%0A%20%20%20%20%20%20%20%20marker_758ac57c078e45498e04467b5824818c.bindPopup%28popup_ad58515ead204e03bc299ef9f9493b90%29%0A%20%20%20%20%20%20%20%20%3B%0A%0A%20%20%20%20%20%20%20%20%0A%20%20%20%20%0A%20%20%20%20%0A%20%20%20%20%20%20%20%20%20%20%20%20var%20marker_c1453966f9a9402fbe36e1213a8cab41%20%3D%20L.marker%28%0A%20%20%20%20%20%20%20%20%20%20%20%20%20%20%20%20%5B6.432160000000067%2C%202.89265000000006%5D%2C%0A%20%20%20%20%20%20%20%20%20%20%20%20%20%20%20%20%7B%22color%22%3A%20%22blue%22%2C%20%22fill%22%3A%20true%2C%20%22fillColor%22%3A%20%22%233186cc%22%2C%20%22fillOpacity%22%3A%200.7%2C%20%22parseHtml%22%3A%20false%2C%20%22radius%22%3A%205%7D%0A%20%20%20%20%20%20%20%20%20%20%20%20%29.addTo%28map_ff805c7f2bc14740bcd0f63d9c4e888c%29%3B%0A%20%20%20%20%20%20%20%20%0A%20%20%20%20%0A%20%20%20%20%20%20%20%20var%20popup_afe2b41472e94d5c951f9a1d4adaa58f%20%3D%20L.popup%28%7B%22maxWidth%22%3A%20%22100%25%22%7D%29%3B%0A%0A%20%20%20%20%20%20%20%20%0A%20%20%20%20%20%20%20%20%20%20%20%20var%20html_b885eb986bd945348f8ed7171d089351%20%3D%20%24%28%60%3Cdiv%20id%3D%22html_b885eb986bd945348f8ed7171d089351%22%20style%3D%22width%3A%20100.0%25%3B%20height%3A%20100.0%25%3B%22%3EBadagry%2C%20Badagry%2C%20392557%3C/div%3E%60%29%5B0%5D%3B%0A%20%20%20%20%20%20%20%20%20%20%20%20popup_afe2b41472e94d5c951f9a1d4adaa58f.setContent%28html_b885eb986bd945348f8ed7171d089351%29%3B%0A%20%20%20%20%20%20%20%20%0A%0A%20%20%20%20%20%20%20%20marker_c1453966f9a9402fbe36e1213a8cab41.bindPopup%28popup_afe2b41472e94d5c951f9a1d4adaa58f%29%0A%20%20%20%20%20%20%20%20%3B%0A%0A%20%20%20%20%20%20%20%20%0A%20%20%20%20%0A%20%20%20%20%0A%20%20%20%20%20%20%20%20%20%20%20%20var%20marker_fc2fa03d40c2438d9649728df58b701f%20%3D%20L.marker%28%0A%20%20%20%20%20%20%20%20%20%20%20%20%20%20%20%20%5B6.437950000000058%2C%203.3643600000000333%5D%2C%0A%20%20%20%20%20%20%20%20%20%20%20%20%20%20%20%20%7B%22color%22%3A%20%22blue%22%2C%20%22fill%22%3A%20true%2C%20%22fillColor%22%3A%20%22%233186cc%22%2C%20%22fillOpacity%22%3A%200.7%2C%20%22parseHtml%22%3A%20false%2C%20%22radius%22%3A%205%7D%0A%20%20%20%20%20%20%20%20%20%20%20%20%29.addTo%28map_ff805c7f2bc14740bcd0f63d9c4e888c%29%3B%0A%20%20%20%20%20%20%20%20%0A%20%20%20%20%0A%20%20%20%20%20%20%20%20var%20popup_4169974cf1f34ba28cf3aaac73e2a30e%20%3D%20L.popup%28%7B%22maxWidth%22%3A%20%22100%25%22%7D%29%3B%0A%0A%20%20%20%20%20%20%20%20%0A%20%20%20%20%20%20%20%20%20%20%20%20var%20html_715317bb17334925b2c42c6f27e8880e%20%3D%20%24%28%60%3Cdiv%20id%3D%22html_715317bb17334925b2c42c6f27e8880e%22%20style%3D%22width%3A%20100.0%25%3B%20height%3A%20100.0%25%3B%22%3EApapa%2C%20Apapa%2C%20353917%3C/div%3E%60%29%5B0%5D%3B%0A%20%20%20%20%20%20%20%20%20%20%20%20popup_4169974cf1f34ba28cf3aaac73e2a30e.setContent%28html_715317bb17334925b2c42c6f27e8880e%29%3B%0A%20%20%20%20%20%20%20%20%0A%0A%20%20%20%20%20%20%20%20marker_fc2fa03d40c2438d9649728df58b701f.bindPopup%28popup_4169974cf1f34ba28cf3aaac73e2a30e%29%0A%20%20%20%20%20%20%20%20%3B%0A%0A%20%20%20%20%20%20%20%20%0A%20%20%20%20%0A%20%20%20%20%0A%20%20%20%20%20%20%20%20%20%20%20%20var%20marker_bf49375f397a455aba5f7eb5275437f5%20%3D%20L.marker%28%0A%20%20%20%20%20%20%20%20%20%20%20%20%20%20%20%20%5B6.454700000000059%2C%203.3887600000000475%5D%2C%0A%20%20%20%20%20%20%20%20%20%20%20%20%20%20%20%20%7B%22color%22%3A%20%22blue%22%2C%20%22fill%22%3A%20true%2C%20%22fillColor%22%3A%20%22%233186cc%22%2C%20%22fillOpacity%22%3A%200.7%2C%20%22parseHtml%22%3A%20false%2C%20%22radius%22%3A%205%7D%0A%20%20%20%20%20%20%20%20%20%20%20%20%29.addTo%28map_ff805c7f2bc14740bcd0f63d9c4e888c%29%3B%0A%20%20%20%20%20%20%20%20%0A%20%20%20%20%0A%20%20%20%20%20%20%20%20var%20popup_119d3733f6c44798b91917cbcae8cce6%20%3D%20L.popup%28%7B%22maxWidth%22%3A%20%22100%25%22%7D%29%3B%0A%0A%20%20%20%20%20%20%20%20%0A%20%20%20%20%20%20%20%20%20%20%20%20var%20html_9a62bf1fd025442083203b1a638ac2da%20%3D%20%24%28%60%3Cdiv%20id%3D%22html_9a62bf1fd025442083203b1a638ac2da%22%20style%3D%22width%3A%20100.0%25%3B%20height%3A%20100.0%25%3B%22%3ELagos%20Island%2C%20Lagos%20Island%2C%20341013%3C/div%3E%60%29%5B0%5D%3B%0A%20%20%20%20%20%20%20%20%20%20%20%20popup_119d3733f6c44798b91917cbcae8cce6.setContent%28html_9a62bf1fd025442083203b1a638ac2da%29%3B%0A%20%20%20%20%20%20%20%20%0A%0A%20%20%20%20%20%20%20%20marker_bf49375f397a455aba5f7eb5275437f5.bindPopup%28popup_119d3733f6c44798b91917cbcae8cce6%29%0A%20%20%20%20%20%20%20%20%3B%0A%0A%20%20%20%20%20%20%20%20%0A%20%20%20%20%0A%20%20%20%20%0A%20%20%20%20%20%20%20%20%20%20%20%20var%20marker_24a92e921d2f40de859aca390ba4ac29%20%3D%20L.marker%28%0A%20%20%20%20%20%20%20%20%20%20%20%20%20%20%20%20%5B6.583750000000066%2C%203.975530000000049%5D%2C%0A%20%20%20%20%20%20%20%20%20%20%20%20%20%20%20%20%7B%22color%22%3A%20%22blue%22%2C%20%22fill%22%3A%20true%2C%20%22fillColor%22%3A%20%22%233186cc%22%2C%20%22fillOpacity%22%3A%200.7%2C%20%22parseHtml%22%3A%20false%2C%20%22radius%22%3A%205%7D%0A%20%20%20%20%20%20%20%20%20%20%20%20%29.addTo%28map_ff805c7f2bc14740bcd0f63d9c4e888c%29%3B%0A%20%20%20%20%20%20%20%20%0A%20%20%20%20%0A%20%20%20%20%20%20%20%20var%20popup_c17ca95111664314af458976fa0c1e78%20%3D%20L.popup%28%7B%22maxWidth%22%3A%20%22100%25%22%7D%29%3B%0A%0A%20%20%20%20%20%20%20%20%0A%20%20%20%20%20%20%20%20%20%20%20%20var%20html_6c4398195ab34613b35b66338e56cea3%20%3D%20%24%28%60%3Cdiv%20id%3D%22html_6c4398195ab34613b35b66338e56cea3%22%20style%3D%22width%3A%20100.0%25%3B%20height%3A%20100.0%25%3B%22%3EEpe%2C%20Epe%2C%20295377%3C/div%3E%60%29%5B0%5D%3B%0A%20%20%20%20%20%20%20%20%20%20%20%20popup_c17ca95111664314af458976fa0c1e78.setContent%28html_6c4398195ab34613b35b66338e56cea3%29%3B%0A%20%20%20%20%20%20%20%20%0A%0A%20%20%20%20%20%20%20%20marker_24a92e921d2f40de859aca390ba4ac29.bindPopup%28popup_c17ca95111664314af458976fa0c1e78%29%0A%20%20%20%20%20%20%20%20%3B%0A%0A%20%20%20%20%20%20%20%20%0A%20%20%20%20%0A%20%20%20%20%0A%20%20%20%20%20%20%20%20%20%20%20%20var%20marker_58260c95549f425da65685d6f7470542%20%3D%20L.marker%28%0A%20%20%20%20%20%20%20%20%20%20%20%20%20%20%20%20%5B6.435460000000035%2C%203.930270000000064%5D%2C%0A%20%20%20%20%20%20%20%20%20%20%20%20%20%20%20%20%7B%22color%22%3A%20%22blue%22%2C%20%22fill%22%3A%20true%2C%20%22fillColor%22%3A%20%22%233186cc%22%2C%20%22fillOpacity%22%3A%200.7%2C%20%22parseHtml%22%3A%20false%2C%20%22radius%22%3A%205%7D%0A%20%20%20%20%20%20%20%20%20%20%20%20%29.addTo%28map_ff805c7f2bc14740bcd0f63d9c4e888c%29%3B%0A%20%20%20%20%20%20%20%20%0A%20%20%20%20%0A%20%20%20%20%20%20%20%20var%20popup_73174e3cca8748c48f312fec0b92c6f7%20%3D%20L.popup%28%7B%22maxWidth%22%3A%20%22100%25%22%7D%29%3B%0A%0A%20%20%20%20%20%20%20%20%0A%20%20%20%20%20%20%20%20%20%20%20%20var%20html_fe09e6b1c70345b2b794f1ef1ca8ddc0%20%3D%20%24%28%60%3Cdiv%20id%3D%22html_fe09e6b1c70345b2b794f1ef1ca8ddc0%22%20style%3D%22width%3A%20100.0%25%3B%20height%3A%20100.0%25%3B%22%3EIbeju-Lekki%2C%20Akodo%2C%20191287%3C/div%3E%60%29%5B0%5D%3B%0A%20%20%20%20%20%20%20%20%20%20%20%20popup_73174e3cca8748c48f312fec0b92c6f7.setContent%28html_fe09e6b1c70345b2b794f1ef1ca8ddc0%29%3B%0A%20%20%20%20%20%20%20%20%0A%0A%20%20%20%20%20%20%20%20marker_58260c95549f425da65685d6f7470542.bindPopup%28popup_73174e3cca8748c48f312fec0b92c6f7%29%0A%20%20%20%20%20%20%20%20%3B%0A%0A%20%20%20%20%20%20%20%20%0A%20%20%20%20%0A%3C/script%3E onload=\"this.contentDocument.open();this.contentDocument.write(    decodeURIComponent(this.getAttribute('data-html')));this.contentDocument.close();\" allowfullscreen webkitallowfullscreen mozallowfullscreen></iframe></div></div>"
      ],
      "text/plain": [
       "<folium.folium.Map at 0x2a6fe930548>"
      ]
     },
     "execution_count": 26,
     "metadata": {},
     "output_type": "execute_result"
    }
   ],
   "source": [
    "# Display lagos map with all LGA\n",
    "\n",
    "map_lagos"
   ]
  },
  {
   "cell_type": "markdown",
   "metadata": {},
   "source": [
    "<a class=\"anchor\" id=\"item3\"></a> "
   ]
  },
  {
   "cell_type": "markdown",
   "metadata": {
    "slideshow": {
     "slide_type": "slide"
    }
   },
   "source": [
    "# Methodology\n",
    "\n",
    "This project aims to identify restaurants in the bukka category (med/low investment and operating cost) with high ROI potentials and recommend for investment. The steps taken are as follows:\n",
    "\n",
    "Firstly, a get request with filter-query ('restaurant') was sent to the Foursquare API (explore endpoint) to retrieve all restaurants within a 3km radius of the Aministrtative Capital of each local government area of Lagos State. \n",
    "\n",
    "The results returned by the Foursquare API were cleaned.\n",
    "\n",
    "The results were filtered to eliminate restaurants that do not belong to the bukka category. That is, restaurants that already have more 3 branches or restaurants with high investment and operating cost.\n",
    "\n",
    "The Foursquare IDs of each bukka were used to send a get request to Foursquare API (details endpoint) to retrieve the ratings of all the bukkas.\n",
    "\n",
    "Lastly, the ratings were used to group the bukkas."
   ]
  },
  {
   "cell_type": "code",
   "execution_count": 27,
   "metadata": {
    "slideshow": {
     "slide_type": "skip"
    }
   },
   "outputs": [],
   "source": [
    "# Use Foursquare API to retrieve all restaurants within a 3km radius of the Aministrtative Capital of each local government area of Lagos State\n",
    "\n",
    "def getNearbyRestaurants(names, admin_capitals, latitudes, longitudes, query = 'restaurant', radius = 3000):\n",
    "    \n",
    "    restaurants_list=[]\n",
    "    for name, admin_capital, lat, lng in zip(names, admin_capitals, latitudes, longitudes):\n",
    "            \n",
    "        # create the API request URL\n",
    "        url = 'https://api.foursquare.com/v2/venues/explore?&client_id={}&client_secret={}&v={}&ll={},{}&query={}&radius={}&limit={}'.format(\n",
    "                CLIENT_ID, \n",
    "                CLIENT_SECRET, \n",
    "                VERSION, \n",
    "                lat, \n",
    "                lng,\n",
    "                query,\n",
    "                radius, \n",
    "                LIMIT)\n",
    "\n",
    "        # make the GET request\n",
    "        results = requests.get(url).json()[\"response\"]['groups'][0]['items']\n",
    "        print('{} restaurant(s) found in 3km radius of {}.'.format(len(results),\n",
    "                                                                    admin_capital\n",
    "                                                                  )\n",
    "             )\n",
    "        \n",
    "        # return only relevant information for each nearby restaurant\n",
    "        for v in results:\n",
    "            restaurants_list.append([(name,\n",
    "                                     admin_capital,\n",
    "                                     v['venue']['name'],\n",
    "                                     v['venue']['id'],\n",
    "                                     v['venue']['location']['formattedAddress'],\n",
    "                                     v['venue']['location']['lat'], \n",
    "                                     v['venue']['location']['lng'],  \n",
    "                                     v['venue']['categories'][0]['name'])])\n",
    "            \n",
    "            \n",
    "                             \n",
    "    nearby_restaurants = pd.DataFrame([item for restaurant_list in restaurants_list for item in restaurant_list])\n",
    "    nearby_restaurants.columns = ['LGA name',\n",
    "                                  'Administrative capital', \n",
    "                                  'Restaurant',\n",
    "                                  'ID',\n",
    "                                  'Address',\n",
    "                                  'Latitude', \n",
    "                                  'Longitude', \n",
    "                                  'Category']\n",
    "    nearby_restaurants.set_index('LGA name', inplace = True)\n",
    "    \n",
    "    return(nearby_restaurants)"
   ]
  },
  {
   "cell_type": "code",
   "execution_count": 28,
   "metadata": {
    "slideshow": {
     "slide_type": "slide"
    }
   },
   "outputs": [
    {
     "name": "stdout",
     "output_type": "stream",
     "text": [
      "0 restaurant(s) found in 3km radius of Ikotun.\n",
      "5 restaurant(s) found in 3km radius of Ajeromi/Ifelodun.\n",
      "4 restaurant(s) found in 3km radius of Kosofe.\n",
      "14 restaurant(s) found in 3km radius of Mushin.\n",
      "4 restaurant(s) found in 3km radius of Oshodi/Isolo.\n",
      "1 restaurant(s) found in 3km radius of Ojo.\n",
      "3 restaurant(s) found in 3km radius of Ikorodu.\n",
      "19 restaurant(s) found in 3km radius of Surulere.\n",
      "4 restaurant(s) found in 3km radius of Agege.\n",
      "7 restaurant(s) found in 3km radius of Ifako.\n",
      "13 restaurant(s) found in 3km radius of Shomolu.\n",
      "7 restaurant(s) found in 3km radius of Festac Town.\n",
      "22 restaurant(s) found in 3km radius of Lagos Mainland.\n",
      "44 restaurant(s) found in 3km radius of Ikeja.\n",
      "41 restaurant(s) found in 3km radius of Ikoyi.\n",
      "1 restaurant(s) found in 3km radius of Badagry.\n",
      "6 restaurant(s) found in 3km radius of Apapa.\n",
      "11 restaurant(s) found in 3km radius of Lagos Island.\n",
      "0 restaurant(s) found in 3km radius of Epe.\n",
      "0 restaurant(s) found in 3km radius of Akodo.\n"
     ]
    }
   ],
   "source": [
    "# Assign import parameters\n",
    "\n",
    "lagos_restaurant = getNearbyRestaurants(names = df_lagos.index,\n",
    "                                        admin_capitals = df_lagos['Administrative capital'],\n",
    "                                        latitudes = df_lagos['Latitude'],\n",
    "                                        longitudes = df_lagos['Longitude']\n",
    "                                        )"
   ]
  },
  {
   "cell_type": "code",
   "execution_count": 29,
   "metadata": {
    "slideshow": {
     "slide_type": "skip"
    }
   },
   "outputs": [],
   "source": [
    "# Clean results retrieved from Foursquare API\n",
    "\n",
    "lagos_restaurant['Address'] = lagos_restaurant['Address'].str[0]\n",
    "lagos_restaurant['Address'].replace({'Nigeria': 'Lagos'}, inplace = True)"
   ]
  },
  {
   "cell_type": "code",
   "execution_count": 30,
   "metadata": {
    "slideshow": {
     "slide_type": "slide"
    }
   },
   "outputs": [
    {
     "name": "stdout",
     "output_type": "stream",
     "text": [
      "Total number of restaurants returned by Foursquare API is  206\n"
     ]
    },
    {
     "data": {
      "text/html": [
       "<div>\n",
       "<style scoped>\n",
       "    .dataframe tbody tr th:only-of-type {\n",
       "        vertical-align: middle;\n",
       "    }\n",
       "\n",
       "    .dataframe tbody tr th {\n",
       "        vertical-align: top;\n",
       "    }\n",
       "\n",
       "    .dataframe thead th {\n",
       "        text-align: right;\n",
       "    }\n",
       "</style>\n",
       "<table border=\"1\" class=\"dataframe\">\n",
       "  <thead>\n",
       "    <tr style=\"text-align: right;\">\n",
       "      <th></th>\n",
       "      <th>Administrative capital</th>\n",
       "      <th>Restaurant</th>\n",
       "      <th>ID</th>\n",
       "      <th>Address</th>\n",
       "      <th>Latitude</th>\n",
       "      <th>Longitude</th>\n",
       "      <th>Category</th>\n",
       "    </tr>\n",
       "    <tr>\n",
       "      <th>LGA name</th>\n",
       "      <th></th>\n",
       "      <th></th>\n",
       "      <th></th>\n",
       "      <th></th>\n",
       "      <th></th>\n",
       "      <th></th>\n",
       "      <th></th>\n",
       "    </tr>\n",
       "  </thead>\n",
       "  <tbody>\n",
       "    <tr>\n",
       "      <th>Ajeromi-Ifelodun</th>\n",
       "      <td>Ajeromi/Ifelodun</td>\n",
       "      <td>tank and tummy festac</td>\n",
       "      <td>4d4ea5e9ae4e60fce52c02a2</td>\n",
       "      <td>amuwo odofin</td>\n",
       "      <td>6.477172</td>\n",
       "      <td>3.332893</td>\n",
       "      <td>Fast Food Restaurant</td>\n",
       "    </tr>\n",
       "    <tr>\n",
       "      <th>Ajeromi-Ifelodun</th>\n",
       "      <td>Ajeromi/Ifelodun</td>\n",
       "      <td>Mario's Pizza &amp; Fast Food</td>\n",
       "      <td>4c55b8de30f92d7f0a269ebc</td>\n",
       "      <td>14 Bristol Rd</td>\n",
       "      <td>6.447261</td>\n",
       "      <td>3.359209</td>\n",
       "      <td>Pizza Place</td>\n",
       "    </tr>\n",
       "    <tr>\n",
       "      <th>Ajeromi-Ifelodun</th>\n",
       "      <td>Ajeromi/Ifelodun</td>\n",
       "      <td>Kingston Jo, Apapa</td>\n",
       "      <td>50125f9ce4b07f20b26c70a3</td>\n",
       "      <td>Apapa</td>\n",
       "      <td>6.451433</td>\n",
       "      <td>3.364584</td>\n",
       "      <td>Fast Food Restaurant</td>\n",
       "    </tr>\n",
       "    <tr>\n",
       "      <th>Ajeromi-Ifelodun</th>\n",
       "      <td>Ajeromi/Ifelodun</td>\n",
       "      <td>Odiche House</td>\n",
       "      <td>4d8a410699c2a1cd80ca8cd7</td>\n",
       "      <td>76 Coker Road</td>\n",
       "      <td>6.485127</td>\n",
       "      <td>3.335702</td>\n",
       "      <td>Bakery</td>\n",
       "    </tr>\n",
       "    <tr>\n",
       "      <th>Ajeromi-Ifelodun</th>\n",
       "      <td>Ajeromi/Ifelodun</td>\n",
       "      <td>Chicken Republic</td>\n",
       "      <td>4c5723f9cc96c9b6a04a782e</td>\n",
       "      <td>1b Liverpool Rd</td>\n",
       "      <td>6.441617</td>\n",
       "      <td>3.360164</td>\n",
       "      <td>Fast Food Restaurant</td>\n",
       "    </tr>\n",
       "  </tbody>\n",
       "</table>\n",
       "</div>"
      ],
      "text/plain": [
       "                 Administrative capital                 Restaurant  \\\n",
       "LGA name                                                             \n",
       "Ajeromi-Ifelodun       Ajeromi/Ifelodun      tank and tummy festac   \n",
       "Ajeromi-Ifelodun       Ajeromi/Ifelodun  Mario's Pizza & Fast Food   \n",
       "Ajeromi-Ifelodun       Ajeromi/Ifelodun         Kingston Jo, Apapa   \n",
       "Ajeromi-Ifelodun       Ajeromi/Ifelodun               Odiche House   \n",
       "Ajeromi-Ifelodun       Ajeromi/Ifelodun           Chicken Republic   \n",
       "\n",
       "                                        ID          Address  Latitude  \\\n",
       "LGA name                                                                \n",
       "Ajeromi-Ifelodun  4d4ea5e9ae4e60fce52c02a2     amuwo odofin  6.477172   \n",
       "Ajeromi-Ifelodun  4c55b8de30f92d7f0a269ebc    14 Bristol Rd  6.447261   \n",
       "Ajeromi-Ifelodun  50125f9ce4b07f20b26c70a3            Apapa  6.451433   \n",
       "Ajeromi-Ifelodun  4d8a410699c2a1cd80ca8cd7    76 Coker Road  6.485127   \n",
       "Ajeromi-Ifelodun  4c5723f9cc96c9b6a04a782e  1b Liverpool Rd  6.441617   \n",
       "\n",
       "                  Longitude              Category  \n",
       "LGA name                                           \n",
       "Ajeromi-Ifelodun   3.332893  Fast Food Restaurant  \n",
       "Ajeromi-Ifelodun   3.359209           Pizza Place  \n",
       "Ajeromi-Ifelodun   3.364584  Fast Food Restaurant  \n",
       "Ajeromi-Ifelodun   3.335702                Bakery  \n",
       "Ajeromi-Ifelodun   3.360164  Fast Food Restaurant  "
      ]
     },
     "execution_count": 30,
     "metadata": {},
     "output_type": "execute_result"
    }
   ],
   "source": [
    "# Print out restaurants retrieved from Foursquare API\n",
    "\n",
    "print('Total number of restaurants returned by Foursquare API is ', lagos_restaurant.shape[0])\n",
    "lagos_restaurant.head()"
   ]
  },
  {
   "cell_type": "code",
   "execution_count": 31,
   "metadata": {
    "slideshow": {
     "slide_type": "skip"
    }
   },
   "outputs": [],
   "source": [
    "# Print out African restaurants retrieved from Foursquare API\n",
    "\n",
    "lagos_Afri = lagos_restaurant[lagos_restaurant['Category'] == 'African Restaurant']\n",
    "lagos_Afri = lagos_Afri.drop(lagos_Afri[lagos_Afri['Restaurant']=='Olaiya Amala'].index[0])"
   ]
  },
  {
   "cell_type": "code",
   "execution_count": 32,
   "metadata": {
    "slideshow": {
     "slide_type": "skip"
    }
   },
   "outputs": [
    {
     "name": "stdout",
     "output_type": "stream",
     "text": [
      "Total number of African restaurants returned by Foursquare API is  9\n"
     ]
    },
    {
     "data": {
      "text/html": [
       "<div>\n",
       "<style scoped>\n",
       "    .dataframe tbody tr th:only-of-type {\n",
       "        vertical-align: middle;\n",
       "    }\n",
       "\n",
       "    .dataframe tbody tr th {\n",
       "        vertical-align: top;\n",
       "    }\n",
       "\n",
       "    .dataframe thead th {\n",
       "        text-align: right;\n",
       "    }\n",
       "</style>\n",
       "<table border=\"1\" class=\"dataframe\">\n",
       "  <thead>\n",
       "    <tr style=\"text-align: right;\">\n",
       "      <th></th>\n",
       "      <th>Administrative capital</th>\n",
       "      <th>Restaurant</th>\n",
       "      <th>ID</th>\n",
       "      <th>Address</th>\n",
       "      <th>Latitude</th>\n",
       "      <th>Longitude</th>\n",
       "      <th>Category</th>\n",
       "    </tr>\n",
       "    <tr>\n",
       "      <th>LGA name</th>\n",
       "      <th></th>\n",
       "      <th></th>\n",
       "      <th></th>\n",
       "      <th></th>\n",
       "      <th></th>\n",
       "      <th></th>\n",
       "      <th></th>\n",
       "    </tr>\n",
       "  </thead>\n",
       "  <tbody>\n",
       "    <tr>\n",
       "      <th>Ikorodu</th>\n",
       "      <td>Ikorodu</td>\n",
       "      <td>Fatmot Restaurant</td>\n",
       "      <td>50374439e4b05b4c79f8f7da</td>\n",
       "      <td>5, Lagos Rd</td>\n",
       "      <td>6.630483</td>\n",
       "      <td>3.510461</td>\n",
       "      <td>African Restaurant</td>\n",
       "    </tr>\n",
       "    <tr>\n",
       "      <th>Lagos Mainland</th>\n",
       "      <td>Lagos Mainland</td>\n",
       "      <td>White House</td>\n",
       "      <td>4d344e1098336dcb474236f0</td>\n",
       "      <td>Commercial Avenue Yaba (Yaba)</td>\n",
       "      <td>6.506143</td>\n",
       "      <td>3.375522</td>\n",
       "      <td>African Restaurant</td>\n",
       "    </tr>\n",
       "    <tr>\n",
       "      <th>Lagos Mainland</th>\n",
       "      <td>Lagos Mainland</td>\n",
       "      <td>Olaiya Amala</td>\n",
       "      <td>4f64f3e7e4b03a7ce173376d</td>\n",
       "      <td>Akerele rd</td>\n",
       "      <td>6.503535</td>\n",
       "      <td>3.358119</td>\n",
       "      <td>African Restaurant</td>\n",
       "    </tr>\n",
       "    <tr>\n",
       "      <th>Ikeja</th>\n",
       "      <td>Ikeja</td>\n",
       "      <td>Yellow Chilli</td>\n",
       "      <td>4f78ae22e4b0f52dba4a8b5a</td>\n",
       "      <td>GRA (Joel Ogunnaike Crescent)</td>\n",
       "      <td>6.585071</td>\n",
       "      <td>3.352314</td>\n",
       "      <td>African Restaurant</td>\n",
       "    </tr>\n",
       "    <tr>\n",
       "      <th>Ikeja</th>\n",
       "      <td>Ikeja</td>\n",
       "      <td>The Place</td>\n",
       "      <td>4de210257d8b2547eafb0e8b</td>\n",
       "      <td>Ikeja</td>\n",
       "      <td>6.584293</td>\n",
       "      <td>3.356951</td>\n",
       "      <td>African Restaurant</td>\n",
       "    </tr>\n",
       "    <tr>\n",
       "      <th>Ikeja</th>\n",
       "      <td>Ikeja</td>\n",
       "      <td>Goat Hunters</td>\n",
       "      <td>4d090df300e6b1f79acf10d7</td>\n",
       "      <td>Adelelke Street</td>\n",
       "      <td>6.601134</td>\n",
       "      <td>3.351368</td>\n",
       "      <td>African Restaurant</td>\n",
       "    </tr>\n",
       "    <tr>\n",
       "      <th>Ikeja</th>\n",
       "      <td>Ikeja</td>\n",
       "      <td>Kobis</td>\n",
       "      <td>4c51be450ef3a5937398847c</td>\n",
       "      <td>Kudirat Abiola Way, Oregun</td>\n",
       "      <td>6.602415</td>\n",
       "      <td>3.363003</td>\n",
       "      <td>African Restaurant</td>\n",
       "    </tr>\n",
       "    <tr>\n",
       "      <th>Ikeja</th>\n",
       "      <td>Ikeja</td>\n",
       "      <td>Sweet Sensation</td>\n",
       "      <td>4c795c3da8683704e74f104d</td>\n",
       "      <td>Isaac John Street, Ikeja</td>\n",
       "      <td>6.583430</td>\n",
       "      <td>3.359992</td>\n",
       "      <td>African Restaurant</td>\n",
       "    </tr>\n",
       "    <tr>\n",
       "      <th>Lagos Island</th>\n",
       "      <td>Lagos Island</td>\n",
       "      <td>Ghana High Buka</td>\n",
       "      <td>51dbe2c8498e3264a8aa5bc4</td>\n",
       "      <td>McCarthy Street</td>\n",
       "      <td>6.446439</td>\n",
       "      <td>3.405491</td>\n",
       "      <td>African Restaurant</td>\n",
       "    </tr>\n",
       "  </tbody>\n",
       "</table>\n",
       "</div>"
      ],
      "text/plain": [
       "               Administrative capital         Restaurant  \\\n",
       "LGA name                                                   \n",
       "Ikorodu                       Ikorodu  Fatmot Restaurant   \n",
       "Lagos Mainland         Lagos Mainland        White House   \n",
       "Lagos Mainland         Lagos Mainland       Olaiya Amala   \n",
       "Ikeja                           Ikeja      Yellow Chilli   \n",
       "Ikeja                           Ikeja          The Place   \n",
       "Ikeja                           Ikeja       Goat Hunters   \n",
       "Ikeja                           Ikeja              Kobis   \n",
       "Ikeja                           Ikeja    Sweet Sensation   \n",
       "Lagos Island             Lagos Island    Ghana High Buka   \n",
       "\n",
       "                                      ID                        Address  \\\n",
       "LGA name                                                                  \n",
       "Ikorodu         50374439e4b05b4c79f8f7da                    5, Lagos Rd   \n",
       "Lagos Mainland  4d344e1098336dcb474236f0  Commercial Avenue Yaba (Yaba)   \n",
       "Lagos Mainland  4f64f3e7e4b03a7ce173376d                     Akerele rd   \n",
       "Ikeja           4f78ae22e4b0f52dba4a8b5a  GRA (Joel Ogunnaike Crescent)   \n",
       "Ikeja           4de210257d8b2547eafb0e8b                          Ikeja   \n",
       "Ikeja           4d090df300e6b1f79acf10d7                Adelelke Street   \n",
       "Ikeja           4c51be450ef3a5937398847c     Kudirat Abiola Way, Oregun   \n",
       "Ikeja           4c795c3da8683704e74f104d       Isaac John Street, Ikeja   \n",
       "Lagos Island    51dbe2c8498e3264a8aa5bc4                McCarthy Street   \n",
       "\n",
       "                Latitude  Longitude            Category  \n",
       "LGA name                                                 \n",
       "Ikorodu         6.630483   3.510461  African Restaurant  \n",
       "Lagos Mainland  6.506143   3.375522  African Restaurant  \n",
       "Lagos Mainland  6.503535   3.358119  African Restaurant  \n",
       "Ikeja           6.585071   3.352314  African Restaurant  \n",
       "Ikeja           6.584293   3.356951  African Restaurant  \n",
       "Ikeja           6.601134   3.351368  African Restaurant  \n",
       "Ikeja           6.602415   3.363003  African Restaurant  \n",
       "Ikeja           6.583430   3.359992  African Restaurant  \n",
       "Lagos Island    6.446439   3.405491  African Restaurant  "
      ]
     },
     "execution_count": 32,
     "metadata": {},
     "output_type": "execute_result"
    }
   ],
   "source": [
    "# Print out African restaurants retrieved from Foursquare API\n",
    "\n",
    "print('Total number of African restaurants returned by Foursquare API is ', lagos_Afri.shape[0])\n",
    "lagos_Afri"
   ]
  },
  {
   "cell_type": "code",
   "execution_count": 33,
   "metadata": {
    "slideshow": {
     "slide_type": "skip"
    }
   },
   "outputs": [],
   "source": [
    "# Filter out restaurants that do not belong to bukka category\n",
    "\n",
    "conditions = (lagos_Afri['Restaurant'] != 'The Place') &                     \\\n",
    "             (lagos_Afri['Restaurant'] != 'Sweet Sensation') &               \\\n",
    "             (lagos_Afri['Restaurant'] != 'Yellow Chilli') &                 \\\n",
    "             (lagos_Afri['Restaurant'] != 'Nok by Alara') &                  \\\n",
    "             (lagos_Afri['Restaurant'] != 'L\\'afrique Restaurant & Bar') &   \\\n",
    "             (lagos_Afri['Restaurant'] != 'Kobis')        \n",
    "             \n",
    "lagos_bukka = lagos_Afri[conditions]"
   ]
  },
  {
   "cell_type": "code",
   "execution_count": 34,
   "metadata": {
    "slideshow": {
     "slide_type": "slide"
    }
   },
   "outputs": [
    {
     "name": "stdout",
     "output_type": "stream",
     "text": [
      "Total number of Bukkas found in the LGAs of Lagos State is  5\n"
     ]
    },
    {
     "data": {
      "text/html": [
       "<div>\n",
       "<style scoped>\n",
       "    .dataframe tbody tr th:only-of-type {\n",
       "        vertical-align: middle;\n",
       "    }\n",
       "\n",
       "    .dataframe tbody tr th {\n",
       "        vertical-align: top;\n",
       "    }\n",
       "\n",
       "    .dataframe thead th {\n",
       "        text-align: right;\n",
       "    }\n",
       "</style>\n",
       "<table border=\"1\" class=\"dataframe\">\n",
       "  <thead>\n",
       "    <tr style=\"text-align: right;\">\n",
       "      <th></th>\n",
       "      <th>Administrative capital</th>\n",
       "      <th>Restaurant</th>\n",
       "      <th>ID</th>\n",
       "      <th>Address</th>\n",
       "      <th>Latitude</th>\n",
       "      <th>Longitude</th>\n",
       "      <th>Category</th>\n",
       "    </tr>\n",
       "    <tr>\n",
       "      <th>LGA name</th>\n",
       "      <th></th>\n",
       "      <th></th>\n",
       "      <th></th>\n",
       "      <th></th>\n",
       "      <th></th>\n",
       "      <th></th>\n",
       "      <th></th>\n",
       "    </tr>\n",
       "  </thead>\n",
       "  <tbody>\n",
       "    <tr>\n",
       "      <th>Ikorodu</th>\n",
       "      <td>Ikorodu</td>\n",
       "      <td>Fatmot Restaurant</td>\n",
       "      <td>50374439e4b05b4c79f8f7da</td>\n",
       "      <td>5, Lagos Rd</td>\n",
       "      <td>6.630483</td>\n",
       "      <td>3.510461</td>\n",
       "      <td>African Restaurant</td>\n",
       "    </tr>\n",
       "    <tr>\n",
       "      <th>Lagos Mainland</th>\n",
       "      <td>Lagos Mainland</td>\n",
       "      <td>White House</td>\n",
       "      <td>4d344e1098336dcb474236f0</td>\n",
       "      <td>Commercial Avenue Yaba (Yaba)</td>\n",
       "      <td>6.506143</td>\n",
       "      <td>3.375522</td>\n",
       "      <td>African Restaurant</td>\n",
       "    </tr>\n",
       "    <tr>\n",
       "      <th>Lagos Mainland</th>\n",
       "      <td>Lagos Mainland</td>\n",
       "      <td>Olaiya Amala</td>\n",
       "      <td>4f64f3e7e4b03a7ce173376d</td>\n",
       "      <td>Akerele rd</td>\n",
       "      <td>6.503535</td>\n",
       "      <td>3.358119</td>\n",
       "      <td>African Restaurant</td>\n",
       "    </tr>\n",
       "    <tr>\n",
       "      <th>Ikeja</th>\n",
       "      <td>Ikeja</td>\n",
       "      <td>Goat Hunters</td>\n",
       "      <td>4d090df300e6b1f79acf10d7</td>\n",
       "      <td>Adelelke Street</td>\n",
       "      <td>6.601134</td>\n",
       "      <td>3.351368</td>\n",
       "      <td>African Restaurant</td>\n",
       "    </tr>\n",
       "    <tr>\n",
       "      <th>Lagos Island</th>\n",
       "      <td>Lagos Island</td>\n",
       "      <td>Ghana High Buka</td>\n",
       "      <td>51dbe2c8498e3264a8aa5bc4</td>\n",
       "      <td>McCarthy Street</td>\n",
       "      <td>6.446439</td>\n",
       "      <td>3.405491</td>\n",
       "      <td>African Restaurant</td>\n",
       "    </tr>\n",
       "  </tbody>\n",
       "</table>\n",
       "</div>"
      ],
      "text/plain": [
       "               Administrative capital         Restaurant  \\\n",
       "LGA name                                                   \n",
       "Ikorodu                       Ikorodu  Fatmot Restaurant   \n",
       "Lagos Mainland         Lagos Mainland        White House   \n",
       "Lagos Mainland         Lagos Mainland       Olaiya Amala   \n",
       "Ikeja                           Ikeja       Goat Hunters   \n",
       "Lagos Island             Lagos Island    Ghana High Buka   \n",
       "\n",
       "                                      ID                        Address  \\\n",
       "LGA name                                                                  \n",
       "Ikorodu         50374439e4b05b4c79f8f7da                    5, Lagos Rd   \n",
       "Lagos Mainland  4d344e1098336dcb474236f0  Commercial Avenue Yaba (Yaba)   \n",
       "Lagos Mainland  4f64f3e7e4b03a7ce173376d                     Akerele rd   \n",
       "Ikeja           4d090df300e6b1f79acf10d7                Adelelke Street   \n",
       "Lagos Island    51dbe2c8498e3264a8aa5bc4                McCarthy Street   \n",
       "\n",
       "                Latitude  Longitude            Category  \n",
       "LGA name                                                 \n",
       "Ikorodu         6.630483   3.510461  African Restaurant  \n",
       "Lagos Mainland  6.506143   3.375522  African Restaurant  \n",
       "Lagos Mainland  6.503535   3.358119  African Restaurant  \n",
       "Ikeja           6.601134   3.351368  African Restaurant  \n",
       "Lagos Island    6.446439   3.405491  African Restaurant  "
      ]
     },
     "execution_count": 34,
     "metadata": {},
     "output_type": "execute_result"
    }
   ],
   "source": [
    "# Print out filtered lagos bukka result\n",
    "\n",
    "print('Total number of Bukkas found in the LGAs of Lagos State is ', lagos_bukka.shape[0])\n",
    "lagos_bukka"
   ]
  },
  {
   "cell_type": "code",
   "execution_count": 35,
   "metadata": {
    "slideshow": {
     "slide_type": "skip"
    }
   },
   "outputs": [],
   "source": [
    "#  Using Foursquare API to retrieve the ratings of all the bukkas within a 3km radius of the Aministrtative Capital\n",
    "\n",
    "def getRestaurantRatings(names, restaurants, restaurant_ids, restaurant_addresses):\n",
    "    \n",
    "    ratings_list=[]\n",
    "    for name, restaurant, restaurant_id, address in zip(names, restaurants, restaurant_ids, restaurant_addresses):\n",
    "            \n",
    "        # create the API request URL\n",
    "        url = 'https://api.foursquare.com/v2/venues/{}?client_id={}&client_secret={}&oauth_token={}&v={}'.format(restaurant_id, \n",
    "                                                                                                                 CLIENT_ID, \n",
    "                                                                                                                 CLIENT_SECRET,\n",
    "                                                                                                                 ACCESS_TOKEN, \n",
    "                                                                                                                 VERSION \n",
    "                                                                                                                 )\n",
    "        # make the GET request\n",
    "        results = requests.get(url).json()['response']['venue']['rating']\n",
    "        try:\n",
    "            print('{} rating is {}.'.format(restaurant, results))\n",
    "        except:\n",
    "            print('{} has not been rated yet.'.format(restaurant))\n",
    "        \n",
    "        ratings_list.append([(name,\n",
    "                             restaurant,\n",
    "                             address,\n",
    "                             results\n",
    "                             )])\n",
    "\n",
    "                             \n",
    "    rated = pd.DataFrame([item for rating_list in ratings_list for item in rating_list])\n",
    "    rated.columns = ['LGA name',\n",
    "                     'Resturant',\n",
    "                     'Address',\n",
    "                     'Rating']\n",
    "    rated.set_index('LGA name', inplace = True)\n",
    "    \n",
    "    return(rated)"
   ]
  },
  {
   "cell_type": "code",
   "execution_count": 36,
   "metadata": {
    "slideshow": {
     "slide_type": "skip"
    }
   },
   "outputs": [
    {
     "name": "stdout",
     "output_type": "stream",
     "text": [
      "Fatmot Restaurant rating is 7.4.\n",
      "White House rating is 8.0.\n",
      "Olaiya Amala rating is 7.2.\n",
      "Goat Hunters rating is 6.6.\n",
      "Ghana High Buka rating is 7.2.\n"
     ]
    }
   ],
   "source": [
    "# Assign import parameters\n",
    "\n",
    "lagos_ratedbukka = getRestaurantRatings(names = lagos_bukka.index,\n",
    "                                        restaurants = lagos_bukka['Restaurant'],\n",
    "                                        restaurant_ids = lagos_bukka['ID'],\n",
    "                                        restaurant_addresses = lagos_bukka['Address']\n",
    "                                       )"
   ]
  },
  {
   "cell_type": "markdown",
   "metadata": {
    "slideshow": {
     "slide_type": "slide"
    }
   },
   "source": [
    "# Results and Discusion <a class=\"anchor\" id=\"item4\"></a> "
   ]
  },
  {
   "cell_type": "markdown",
   "metadata": {
    "slideshow": {
     "slide_type": "fragment"
    }
   },
   "source": [
    "## Result"
   ]
  },
  {
   "cell_type": "code",
   "execution_count": 37,
   "metadata": {
    "scrolled": true,
    "slideshow": {
     "slide_type": "skip"
    }
   },
   "outputs": [],
   "source": [
    "# Sort Lagos bukkas according to their ratings in descending order\n",
    "\n",
    "lagos_ratedbukka.sort_values('Rating', ascending = False, inplace = True)"
   ]
  },
  {
   "cell_type": "code",
   "execution_count": 38,
   "metadata": {
    "slideshow": {
     "slide_type": "fragment"
    }
   },
   "outputs": [
    {
     "data": {
      "text/html": [
       "<div>\n",
       "<style scoped>\n",
       "    .dataframe tbody tr th:only-of-type {\n",
       "        vertical-align: middle;\n",
       "    }\n",
       "\n",
       "    .dataframe tbody tr th {\n",
       "        vertical-align: top;\n",
       "    }\n",
       "\n",
       "    .dataframe thead th {\n",
       "        text-align: right;\n",
       "    }\n",
       "</style>\n",
       "<table border=\"1\" class=\"dataframe\">\n",
       "  <thead>\n",
       "    <tr style=\"text-align: right;\">\n",
       "      <th></th>\n",
       "      <th>Resturant</th>\n",
       "      <th>Address</th>\n",
       "      <th>Rating</th>\n",
       "    </tr>\n",
       "    <tr>\n",
       "      <th>LGA name</th>\n",
       "      <th></th>\n",
       "      <th></th>\n",
       "      <th></th>\n",
       "    </tr>\n",
       "  </thead>\n",
       "  <tbody>\n",
       "    <tr>\n",
       "      <th>Lagos Mainland</th>\n",
       "      <td>White House</td>\n",
       "      <td>Commercial Avenue Yaba (Yaba)</td>\n",
       "      <td>8.0</td>\n",
       "    </tr>\n",
       "    <tr>\n",
       "      <th>Ikorodu</th>\n",
       "      <td>Fatmot Restaurant</td>\n",
       "      <td>5, Lagos Rd</td>\n",
       "      <td>7.4</td>\n",
       "    </tr>\n",
       "    <tr>\n",
       "      <th>Lagos Mainland</th>\n",
       "      <td>Olaiya Amala</td>\n",
       "      <td>Akerele rd</td>\n",
       "      <td>7.2</td>\n",
       "    </tr>\n",
       "    <tr>\n",
       "      <th>Lagos Island</th>\n",
       "      <td>Ghana High Buka</td>\n",
       "      <td>McCarthy Street</td>\n",
       "      <td>7.2</td>\n",
       "    </tr>\n",
       "    <tr>\n",
       "      <th>Ikeja</th>\n",
       "      <td>Goat Hunters</td>\n",
       "      <td>Adelelke Street</td>\n",
       "      <td>6.6</td>\n",
       "    </tr>\n",
       "  </tbody>\n",
       "</table>\n",
       "</div>"
      ],
      "text/plain": [
       "                        Resturant                        Address  Rating\n",
       "LGA name                                                                \n",
       "Lagos Mainland        White House  Commercial Avenue Yaba (Yaba)     8.0\n",
       "Ikorodu         Fatmot Restaurant                    5, Lagos Rd     7.4\n",
       "Lagos Mainland       Olaiya Amala                     Akerele rd     7.2\n",
       "Lagos Island      Ghana High Buka                McCarthy Street     7.2\n",
       "Ikeja                Goat Hunters                Adelelke Street     6.6"
      ]
     },
     "execution_count": 38,
     "metadata": {},
     "output_type": "execute_result"
    }
   ],
   "source": [
    "# Print out rated lagos bukka\n",
    "\n",
    "lagos_ratedbukka"
   ]
  },
  {
   "cell_type": "markdown",
   "metadata": {
    "slideshow": {
     "slide_type": "slide"
    }
   },
   "source": [
    "## Discussion\n",
    "\n",
    "From the analysis above, most of the restaurants are sited in Ikeja LGA(44), Eti-Osa LGA(41), Lagos Mainland LGA(22), Surulere LGA(19) and Mushin(14). These are the top 5 LGA with the highest number of restaurants within 3km radius of their Administrative Capitals. The results also showed that there are no restaurants within 3km radius of the Administrative Capital of Alimosho, Epe and Ibeju-Lekki LGAs.\n",
    "\n",
    "Most of the restaurants in all the LGAs are high class or foreign restaurants and do not have branches opened in other LGAs except for some few restaurants subcategorized as 'Fast Food Restaurant' and 'Pizza place'. They have huge investments and their operational costs are high. I filtered out this restaurant category because we are only looking for restaurants (in bukka category) with moderate investments and low cost of operations.\n",
    "\n",
    "The filtered result showed 5 restaurants that belong to bukka category: \n",
    "* 1 bukka (Fatmot Restaurant) at Ikorodu LGA\n",
    "* 2 bukkas (White House, Olaiya Amala) at Lagos Mainland LGA\n",
    "* 1 bukka (Goat Hunters) at Ikeja LGA and \n",
    "* 1 bukka (Ghana High Bukka) at Lagos Island LGA.\n",
    "\n",
    "The final analysis showed the rating of each 5 bukka identified with the potentials of becoming high-class restaurants. The rating range is between 0 to 10. All the bukkas identified were rated above 6.0. This means they are popular and provide good customer services to their customers."
   ]
  },
  {
   "cell_type": "markdown",
   "metadata": {
    "slideshow": {
     "slide_type": "slide"
    }
   },
   "source": [
    "# Conclusion <a class=\"anchor\" id=\"item5\"></a>\n",
    "\n",
    "I recommend these bukkas according to their ratings for investment. White House restaurant has the highest rating and very popular but its environment is not conducive for eating. I used google photos to explore bukkas' buildings or environments. In terms of environment, Olaiya Amala (Olaiya Food and Catering Services) has a better environment than the other 4 bukkas. \n",
    "\n",
    "I will recommend opening new branches for any of these bukkas in the most populated LGAs like Alimosho, Ajeromi-Ifelodun and Kosofe. These 3 most populated LGAs have no or few restaurants within a 3km radius of their Administrative Capitals. \n",
    "\n",
    "I will also recommend opening new branches at Epe and Ibeju-Lekki because they have no restaurants sited within a 3km radius of their Administrative Capitals. Though they have the lowest population, they have high standards of living and the largest areas of land."
   ]
  },
  {
   "cell_type": "markdown",
   "metadata": {
    "slideshow": {
     "slide_type": "slide"
    }
   },
   "source": [
    "# Appendix <a class=\"anchor\" id=\"item6\"></a>"
   ]
  },
  {
   "cell_type": "markdown",
   "metadata": {
    "slideshow": {
     "slide_type": "fragment"
    }
   },
   "source": [
    "## References <a class=\"anchor\" id=\"item6a\"></a>\n",
    "\n",
    "* [Foursquare API Documentation](https://developer.foursquare.com/docs/api-reference/venues/explore/)\n",
    "\n",
    "* [TTADESUSI Data Science GitHub Repo](https://github.com/ttadesusi/IBM-Data-Science-Professional-Certification)\n",
    "\n",
    "* [Coursera | IBM Data Science](https://www.coursera.org/professional-certificates/ibm-data-science?) "
   ]
  },
  {
   "cell_type": "markdown",
   "metadata": {
    "slideshow": {
     "slide_type": "fragment"
    }
   },
   "source": [
    "## Author <a class=\"anchor\" id=\"item6b\"></a>\n",
    "\n",
    "* [Temitope Adesusi](https://www.linkedin.com/in/ttadesusi)"
   ]
  }
 ],
 "metadata": {
  "kernelspec": {
   "display_name": "Python 3",
   "language": "python",
   "name": "python3"
  },
  "language_info": {
   "codemirror_mode": {
    "name": "ipython",
    "version": 3
   },
   "file_extension": ".py",
   "mimetype": "text/x-python",
   "name": "python",
   "nbconvert_exporter": "python",
   "pygments_lexer": "ipython3",
   "version": "3.7.9"
  },
  "toc-autonumbering": true,
  "toc-showcode": false,
  "toc-showmarkdowntxt": false,
  "toc-showtags": false
 },
 "nbformat": 4,
 "nbformat_minor": 4
}
