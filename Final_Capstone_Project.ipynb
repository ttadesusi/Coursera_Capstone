{
 "cells": [
  {
   "cell_type": "markdown",
   "metadata": {},
   "source": [
    "# Coursera | IBM Captone Project"
   ]
  },
  {
   "cell_type": "markdown",
   "metadata": {},
   "source": [
    "<font size = 4> ***Table of Contents***\n",
    "    \n",
    "\n",
    "\n",
    "1.  *[Introduction](#item1)*\n",
    "    * *[Business Problem](#item1a)*\n",
    "    * *[Objective](#item1b)*\n",
    "    * *[Description of Dataset](#item1c)*\n",
    "    \n",
    "\n",
    "2.  *[Methodology](#item2)*\n",
    "\n",
    "3.  *[Results](#item3)*\n",
    "\n",
    "4.  *[Conclusion and Recommendation](#item3)*"
   ]
  },
  {
   "cell_type": "markdown",
   "metadata": {},
   "source": [
    "<a class=\"anchor\" id=\"item1\"></a> "
   ]
  },
  {
   "cell_type": "markdown",
   "metadata": {},
   "source": [
    "## Introduction \n",
    "\n",
    "This capstone project is my final peer-graded assignment for IBM Data Science Professional Certificate. This professional course is a 10-month program that consists of 9 different courses: \n",
    "\n",
    "* Data Science Orientation\n",
    "* Tools for Data Science\n",
    "* Data Science Methodology\n",
    "* Python for Data Science and AI\n",
    "* Databases and SQL for Data Science\n",
    "* Data Analysis with Python\n",
    "* Data Visualization with Python\n",
    "* Machine Learning with Python\n",
    "* Applied Data Science Capstone Project\n",
    "\n",
    "The knowledge acquired so far will be applied to this capstone project.  The project is about using datasets to determine the appropriate business in Lagos, Nigeria, to invest money and resources."
   ]
  },
  {
   "cell_type": "markdown",
   "metadata": {},
   "source": [
    "### Business Problem <a class=\"anchor\" id=\"item1a\"></a> \n",
    "\n",
    "Lagos is the most populous city in Nigeria and the African continent. According to Wikipedia, Lagos is a major financial centre for all of Africa and a megacity with the fourth-highest GDP in Africa and houses one of the largest and busiest seaports on the continent. It is one of the fastest-growing cities in the world.\n",
    "\n",
    "This megacity is a good place to either start a business or invest in businesses. Different business categories are booming in Lagos, Nigeria but the top 10 categories are namely:\n",
    "\n",
    "* Restaurant and Catering Services\n",
    "* Food Processing\n",
    "* Mini Importation\n",
    "* Transportation\n",
    "* Daycare services\n",
    "* Clothing\n",
    "* Agricultural Products\n",
    "* ICT\n",
    "* Real Estate\n",
    "* Oil & Gas\n",
    "\n",
    "Some of the business categories listed above (E.g Oil & Gas, Real Estate) require a huge sum of capital and operating cost but have huge return-on-investment (ROI). While other categories (E.g Restaurant, Clothing, Daycare) require moderate/low sum of capital and operating cost with good ROI.\n",
    "\n",
    "In this project, the category of business that will be focused on is Restaurant and Catering Services. There are numerous restaurants in every street of Lagos and can be classified into 3 sub-categories:\n",
    "\n",
    "1. Eatery: This category belongs to the high-class restaurants and requires huge investment. They are popular and often have branches in every local government area (LGA) in Lagos State and other States. People patronise them not only because of the delicious taste of meals they sell but also for the well-conditioned and relaxing environment. Examples are KFC, Tastee Fried Chicken, Hard Rock Cafe, Tantalizer, Chicken Republic, Domino's Pizza, Mama Cass and more. \n",
    "\n",
    "2. Bukka: This category belongs to the middle-class restaurants and requires moderate investment. They are well-known as a result of the delicious and pleasurable taste of meals they sell. Recently, a man of God called Pastor E.A Adeboye endorsed them during a Sunday Service because of the quality and tasty meals they sell. The environment, canteens, where they sell the food may not be classy and conducive for eating, therefore, most people prefer to buy their foods in food-packs (takeout) \n",
    "\n",
    "3. Mama-put: This category belongs to the low-class restaurants and requires low investment. They are often patronized by low-income earners because of the low price with a satisfactory quantity of food they sell. The quality and taste of their meals may or may not be as good as the other categories. The environment they sell the food is not always conducive for eating because they are often found on the roadside, selling food from a handcart.\n",
    "\n",
    "Investing in Bukkas with high potential of becoming high-class restaurants will be a good investment because they already have the market. The investment will be on improving the environment to a well-furnished and relaxing outlet, standard of operation and opening more branches.\n",
    "\n",
    "Mama Cass is an example of this type of investment. It started as a Bukka with a single branch and became an eatery with 13 outlets, competing with other high-class restaurants."
   ]
  },
  {
   "cell_type": "markdown",
   "metadata": {},
   "source": [
    "### Objective <a class=\"anchor\" id=\"item1b\"></a>\n",
    "\n",
    "The objective of this project is to use datasets with Foursquare API to search Bukkas within 2km radius of each administrative capital in every local government area of Lagos State. And to explore the Bukkas to determine their potentials of becoming and competing with the high-class restaurants (Eateries). One of the Bukkas will be selected and recommended for investment."
   ]
  },
  {
   "cell_type": "markdown",
   "metadata": {},
   "source": [
    "### Description of Datasets <a class=\"anchor\" id=\"item1c\"></a>\n",
    "\n",
    "The datasets used for this project are acquired from Wikipedia and Macrotrends. Wikipedia dataset consists of the names and administrative capitals of all the local government areas in Lagos State. It also consists of the area dimension (in squared-kilometre) of each LGA and its population. Although the population data is not up to date because the last population census was carried out in 2006. \n",
    "\n",
    "Therefore, there is a need to estimate the year 2021 population data. This will help in making a more accurate decision in siting appropriate venues for the investment. The 2021 population estimation is done by using macrotrends data which consists of Lagos State growth rate for 2006 to 2021.\n",
    "\n",
    "The coordinates (latitude and longitude) of each administrative capital of all LGA of Lagos state are determined by using google geocode API and then attached to the data frame. The data frame consisting of LGA, Administrative capital, Estimated Population and Coordinates is fed into Foursquare API with the search query to get nearby restaurants within 2km radius of each administrative capital."
   ]
  },
  {
   "cell_type": "markdown",
   "metadata": {},
   "source": [
    "<a class=\"anchor\" id=\"item2\"></a> "
   ]
  },
  {
   "cell_type": "markdown",
   "metadata": {},
   "source": [
    "## Methodology"
   ]
  },
  {
   "cell_type": "markdown",
   "metadata": {},
   "source": [
    "### Data Acquisition\n",
    "* Data sources: \n",
    "  1. https://en.wikipedia.org/wiki/Lagos_State\n",
    "  2. https://www.macrotrends.net/cities/22007/lagos/population#:~:text=The%20current%20metro%20area%20population,a%203.28%25%20increase%20from%202018\n",
    "  \n",
    "  \n",
    "* Data Type: html"
   ]
  }
 ],
 "metadata": {
  "kernelspec": {
   "display_name": "Python 3",
   "language": "python",
   "name": "python3"
  },
  "language_info": {
   "codemirror_mode": {
    "name": "ipython",
    "version": 3
   },
   "file_extension": ".py",
   "mimetype": "text/x-python",
   "name": "python",
   "nbconvert_exporter": "python",
   "pygments_lexer": "ipython3",
   "version": "3.7.9"
  },
  "toc-autonumbering": true,
  "toc-showcode": false,
  "toc-showmarkdowntxt": false,
  "toc-showtags": false
 },
 "nbformat": 4,
 "nbformat_minor": 4
}
